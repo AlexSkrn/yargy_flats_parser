{
 "cells": [
  {
   "cell_type": "code",
   "execution_count": 1,
   "metadata": {},
   "outputs": [
    {
     "name": "stdout",
     "output_type": "stream",
     "text": [
      "/Users/alexskrn/opt/anaconda3/envs/yargy/bin/python\r\n"
     ]
    }
   ],
   "source": [
    "!which python\n",
    "# /Users/alexskrn/opt/anaconda3/envs/yargy/bin/python"
   ]
  },
  {
   "cell_type": "code",
   "execution_count": 2,
   "metadata": {},
   "outputs": [],
   "source": [
    "import os\n",
    "import json\n",
    "\n",
    "from yargy import Parser\n",
    "from yargy import rule\n",
    "from yargy import predicates\n",
    "from yargy import or_, and_, not_\n",
    "from yargy import pipelines\n",
    "from yargy.interpretation import fact, attribute\n",
    "from ipymarkup import show_markup"
   ]
  },
  {
   "cell_type": "code",
   "execution_count": 3,
   "metadata": {},
   "outputs": [],
   "source": [
    "def show_matches(rule, *lines):\n",
    "    parser = Parser(rule)\n",
    "    for line in lines:\n",
    "        matches = parser.findall(line)\n",
    "        spans = [_.span for _ in matches]\n",
    "        show_markup(line, spans)\n",
    "\n",
    "def load_lines(path):\n",
    "    with open(path) as file:\n",
    "        for line in file:\n",
    "            yield line.rstrip('\\n')\n",
    "\n",
    "\n",
    "def show_json(data):\n",
    "    print(json.dumps(data, indent=2, ensure_ascii=False))\n",
    "\n",
    "\n",
    "def join_spans(text, spans):\n",
    "    spans = sorted(spans)\n",
    "    return ' '.join(\n",
    "        text[start:stop]\n",
    "        for start, stop in spans\n",
    "    )\n",
    "\n",
    "\n",
    "class Match(object):\n",
    "    def __init__(self, fact, spans):\n",
    "        self.fact = fact\n",
    "        self.spans = spans\n",
    "        \n",
    "\n",
    "class Extractor(object):\n",
    "    def __init__(self, union_rule_obj, wrapper_obj):\n",
    "        self.union_rule_obj_parser = Parser(union_rule_obj)\n",
    "        self.wrapper_parser = Parser(wrapper_obj)\n",
    "\n",
    "    def __call__(self, text):\n",
    "        matches = self.union_rule_obj_parser.findall(text)\n",
    "        spans = [_.span for _ in matches]\n",
    "\n",
    "        line = join_spans(text, spans)\n",
    "        matches = list(self.wrapper_parser.findall(line))\n",
    "        fact = None\n",
    "        if matches:\n",
    "            match = matches[0]\n",
    "            fact = match.fact\n",
    "\n",
    "        return Match(fact, spans)"
   ]
  },
  {
   "cell_type": "code",
   "execution_count": 4,
   "metadata": {},
   "outputs": [],
   "source": [
    "# Станции метро\n",
    "METRO_STATIONS = set(load_lines(os.path.join('dicts', 'metro.txt')))"
   ]
  },
  {
   "cell_type": "code",
   "execution_count": 5,
   "metadata": {},
   "outputs": [
    {
     "name": "stdout",
     "output_type": "stream",
     "text": [
      "20\n",
      "text1. ann1. Арбатская м. 1-комн. кв-ру, или м.Кропоткинская 7 мин/п, Староконюшенный пер., д.30. 35/21 кв.м, кухня 10, 10/12 эт, блоч. дома, балкон, тел., хор. сост., с/у совм., окна в тихий сквер, освобождение сразу, продаю, 45 тыс.$. Торг Т 557-00-73\n"
     ]
    }
   ],
   "source": [
    "# Список текстов объявлений\n",
    "TEXTS = []\n",
    "with open(os.path.join('data', 'flats.txt'), 'r', encoding='utf8') as fromF:\n",
    "    for line in fromF:\n",
    "        line = line.strip()\n",
    "        if line:\n",
    "            TEXTS.append(line)\n",
    "print(len(TEXTS))\n",
    "print(TEXTS[0])"
   ]
  },
  {
   "cell_type": "markdown",
   "metadata": {},
   "source": [
    "### COMMON RULES"
   ]
  },
  {
   "cell_type": "code",
   "execution_count": 6,
   "metadata": {},
   "outputs": [],
   "source": [
    "INT = rule(predicates.type('INT'))\n",
    "\n",
    "# SPACE = predicates.eq(' ')\n",
    "\n",
    "FLOAT = rule(\n",
    "    INT,\n",
    "    predicates.in_({',', '.'}),\n",
    "    predicates.in_('123456789')  # не больше одного знака после запятой\n",
    ")\n",
    "\n",
    "INT_OR_FLOAT = rule(or_(INT, FLOAT))\n",
    "\n",
    "SLASH = predicates.eq('/')\n",
    "DASH = predicates.eq('-')\n",
    "DOT = predicates.eq('.')\n",
    "COMMA = predicates.eq(',')"
   ]
  },
  {
   "cell_type": "markdown",
   "metadata": {},
   "source": [
    "### Атрибуты объекта FLAT"
   ]
  },
  {
   "cell_type": "code",
   "execution_count": 7,
   "metadata": {},
   "outputs": [],
   "source": [
    "flat_fact = fact('flat',\n",
    "                 [attribute('metro').repeatable(),\n",
    "                  'rooms',\n",
    "                  'address',\n",
    "                  'floor_area',\n",
    "                  'floor',\n",
    "                  'price',\n",
    "                  attribute('telephone').repeatable()\n",
    "                 ]\n",
    "           )"
   ]
  },
  {
   "cell_type": "markdown",
   "metadata": {},
   "source": [
    "### Атрибут METRO"
   ]
  },
  {
   "cell_type": "code",
   "execution_count": 8,
   "metadata": {},
   "outputs": [
    {
     "data": {
      "text/html": [
       "<div class=\"tex2jax_ignore\" style=\"white-space: pre-wrap\">text1. ann1. <span style=\"padding: 2px; border-radius: 4px; border: 1px solid #bbdefb; background: #e3f2fd\">Арбатская м.</span> 1-комн. кв-ру, или <span style=\"padding: 2px; border-radius: 4px; border: 1px solid #bbdefb; background: #e3f2fd\">м.Кропоткинская</span> 7 мин/п, Староконюшенный пер.</div>"
      ],
      "text/plain": [
       "BoxMarkup('text1. ann1. Арбатская м. 1-комн. кв-ру, или м.Кропоткинская 7 мин/п, Староконюшенный пер.',\n",
       "          [Span(13, 25, None), Span(45, 60, None)])"
      ]
     },
     "metadata": {},
     "output_type": "display_data"
    },
    {
     "data": {
      "text/html": [
       "<div class=\"tex2jax_ignore\" style=\"white-space: pre-wrap\">text2. ann2. <span style=\"padding: 2px; border-radius: 4px; border: 1px solid #bbdefb; background: #e3f2fd\">Арбатская м.</span> 1-комн. кв ру, 5 м/пеш., ул.Арбат дом 15/43;</div>"
      ],
      "text/plain": [
       "BoxMarkup('text2. ann2. Арбатская м. 1-комн. кв ру, 5 м/пеш., ул.Арбат дом 15/43;',\n",
       "          [Span(13, 25, None)])"
      ]
     },
     "metadata": {},
     "output_type": "display_data"
    }
   ],
   "source": [
    "# METRO = pipelines.pipeline(METRO_STATIONS).repeatable().interpretation(flat.metro)\n",
    "METRO = rule(or_(rule('м',\n",
    "                      '.',\n",
    "                      pipelines.pipeline(METRO_STATIONS).repeatable().interpretation(flat_fact.metro)\n",
    "                     ),\n",
    "                 rule( pipelines.pipeline(METRO_STATIONS).repeatable().interpretation(flat_fact.metro),\n",
    "                      'м',\n",
    "                      '.'\n",
    "                      )\n",
    "                )\n",
    ").repeatable()\n",
    "\n",
    "example_1 = 'text1. ann1. Арбатская м. 1-комн. кв-ру, или м.Кропоткинская 7 мин/п, Староконюшенный пер.'\n",
    "example_2 = 'text2. ann2. Арбатская м. 1-комн. кв ру, 5 м/пеш., ул.Арбат дом 15/43;'\n",
    "\n",
    "show_matches(\n",
    "    METRO,\n",
    "    example_1,\n",
    "    example_2,\n",
    ")"
   ]
  },
  {
   "cell_type": "markdown",
   "metadata": {},
   "source": [
    "### Атрибут ROOMS"
   ]
  },
  {
   "cell_type": "code",
   "execution_count": 9,
   "metadata": {},
   "outputs": [
    {
     "data": {
      "text/html": [
       "<div class=\"tex2jax_ignore\" style=\"white-space: pre-wrap\">text1. ann1. Арбатская м. <span style=\"padding: 2px; border-radius: 4px; border: 1px solid #bbdefb; background: #e3f2fd\">1-комн.</span> кв-ру, или м.Кропоткинская 7 мин/п, Староконюшенный пер.</div>"
      ],
      "text/plain": [
       "BoxMarkup('text1. ann1. Арбатская м. 1-комн. кв-ру, или м.Кропоткинская 7 мин/п, Староконюшенный пер.',\n",
       "          [Span(26, 33, None)])"
      ]
     },
     "metadata": {},
     "output_type": "display_data"
    },
    {
     "data": {
      "text/html": [
       "<div class=\"tex2jax_ignore\" style=\"white-space: pre-wrap\">text2. ann2. Арбатская м. <span style=\"padding: 2px; border-radius: 4px; border: 1px solid #bbdefb; background: #e3f2fd\">1-комн.</span> кв ру, 5 м/пеш., ул.Арбат дом 15/43;</div>"
      ],
      "text/plain": [
       "BoxMarkup('text2. ann2. Арбатская м. 1-комн. кв ру, 5 м/пеш., ул.Арбат дом 15/43;',\n",
       "          [Span(26, 33, None)])"
      ]
     },
     "metadata": {},
     "output_type": "display_data"
    }
   ],
   "source": [
    "rooms_pipe = pipelines.morph_pipeline([\n",
    "    '-комн.'\n",
    "])\n",
    "\n",
    "ROOMS = rule(INT.interpretation(flat_fact.rooms),\n",
    "             rooms_pipe\n",
    "            )\n",
    "\n",
    "example_1 = 'text1. ann1. Арбатская м. 1-комн. кв-ру, или м.Кропоткинская 7 мин/п, Староконюшенный пер.'\n",
    "example_2 = 'text2. ann2. Арбатская м. 1-комн. кв ру, 5 м/пеш., ул.Арбат дом 15/43;'\n",
    "\n",
    "show_matches(\n",
    "    ROOMS,\n",
    "    example_1,\n",
    "    example_2,\n",
    ")"
   ]
  },
  {
   "cell_type": "markdown",
   "metadata": {},
   "source": [
    "### Атрибут STREET ADDRESS"
   ]
  },
  {
   "cell_type": "code",
   "execution_count": 10,
   "metadata": {},
   "outputs": [
    {
     "data": {
      "text/html": [
       "<div class=\"tex2jax_ignore\" style=\"white-space: pre-wrap\">Арбатская м. 1-комн. кв-ру, или м.Кропоткинская 7 мин/п, <span style=\"padding: 2px; border-radius: 4px; border: 1px solid #bbdefb; background: #e3f2fd\">Староконюшенный пер., д.30</span>. 35/21 кв.м, кухня 10</div>"
      ],
      "text/plain": [
       "BoxMarkup('Арбатская м. 1-комн. кв-ру, или м.Кропоткинская 7 мин/п, Староконюшенный пер., д.30. 35/21 кв.м, кухня 10',\n",
       "          [Span(57, 83, None)])"
      ]
     },
     "metadata": {},
     "output_type": "display_data"
    },
    {
     "data": {
      "text/html": [
       "<div class=\"tex2jax_ignore\" style=\"white-space: pre-wrap\">Арбатская м. 1-комн. кв ру, 5 м/пеш., <span style=\"padding: 2px; border-radius: 4px; border: 1px solid #bbdefb; background: #e3f2fd\">ул.Арбат дом 15/43</span>; 53/20/13 кв.м,</div>"
      ],
      "text/plain": [
       "BoxMarkup('Арбатская м. 1-комн. кв ру, 5 м/пеш., ул.Арбат дом 15/43; 53/20/13 кв.м,',\n",
       "          [Span(38, 56, None)])"
      ]
     },
     "metadata": {},
     "output_type": "display_data"
    },
    {
     "data": {
      "text/html": [
       "<div class=\"tex2jax_ignore\" style=\"white-space: pre-wrap\">1-комн. кв-ру, <span style=\"padding: 2px; border-radius: 4px; border: 1px solid #bbdefb; background: #e3f2fd\">ул.Б.Грузинская, д.14</span>, 36/20.2 кв.м</div>"
      ],
      "text/plain": [
       "BoxMarkup('1-комн. кв-ру, ул.Б.Грузинская, д.14, 36/20.2 кв.м',\n",
       "          [Span(15, 36, None)])"
      ]
     },
     "metadata": {},
     "output_type": "display_data"
    },
    {
     "data": {
      "text/html": [
       "<div class=\"tex2jax_ignore\" style=\"white-space: pre-wrap\"><span style=\"padding: 2px; border-radius: 4px; border: 1px solid #bbdefb; background: #e3f2fd\">Аптекарский пер., д.3/22</span>, 30/16.2 кв.м</div>"
      ],
      "text/plain": [
       "BoxMarkup('Аптекарский пер., д.3/22, 30/16.2 кв.м', [Span(0, 24, None)])"
      ]
     },
     "metadata": {},
     "output_type": "display_data"
    },
    {
     "data": {
      "text/html": [
       "<div class=\"tex2jax_ignore\" style=\"white-space: pre-wrap\">5 мин/п., <span style=\"padding: 2px; border-radius: 4px; border: 1px solid #bbdefb; background: #e3f2fd\">Токмаков пер.</span>, 28/16 кв.м</div>"
      ],
      "text/plain": [
       "BoxMarkup('5 мин/п., Токмаков пер., 28/16 кв.м', [Span(10, 23, None)])"
      ]
     },
     "metadata": {},
     "output_type": "display_data"
    },
    {
     "data": {
      "text/html": [
       "<div class=\"tex2jax_ignore\" style=\"white-space: pre-wrap\"><span style=\"padding: 2px; border-radius: 4px; border: 1px solid #bbdefb; background: #e3f2fd\">ул. Бутырский вал, д. 34</span>,</div>"
      ],
      "text/plain": [
       "BoxMarkup('ул. Бутырский вал, д. 34,', [Span(0, 24, None)])"
      ]
     },
     "metadata": {},
     "output_type": "display_data"
    },
    {
     "data": {
      "text/html": [
       "<div class=\"tex2jax_ignore\" style=\"white-space: pre-wrap\"><span style=\"padding: 2px; border-radius: 4px; border: 1px solid #bbdefb; background: #e3f2fd\">Б.Тишинский пер.</span>, 22/15 кв.м</div>"
      ],
      "text/plain": [
       "BoxMarkup('Б.Тишинский пер., 22/15 кв.м', [Span(0, 16, None)])"
      ]
     },
     "metadata": {},
     "output_type": "display_data"
    }
   ],
   "source": [
    "address_fact = fact('address', ['street', 'house'])\n",
    "street_type_pipe = pipelines.morph_pipeline([\n",
    "    'ул',\n",
    "    'пер',\n",
    "])\n",
    "house_pipe = pipelines.morph_pipeline([\n",
    "    'д',\n",
    "    'дом'\n",
    "])\n",
    "\n",
    "ADDRESS = rule(\n",
    "               or_(rule(\n",
    "                        street_type_pipe,\n",
    "                        DOT.optional(),\n",
    "                        predicates.in_('БМ').optional(),   # ул.Б.Грузинская\n",
    "                        DOT.optional(),\n",
    "                        or_(predicates.gram('ADJF'),\n",
    "                            predicates.gram('NOUN'),\n",
    "                            predicates.gram('Geox')\n",
    "                           ),\n",
    "                       predicates.gram('NOUN').optional()  # ул. Бутырский вал\n",
    "                       ),\n",
    "                   rule(\n",
    "                       predicates.in_('БМ').optional(),\n",
    "                       DOT.optional(),\n",
    "                       or_(predicates.gram('ADJF'),\n",
    "                            predicates.gram('NOUN'),\n",
    "                            predicates.gram('Geox')\n",
    "                           ),\n",
    "                       street_type_pipe,\n",
    "                       DOT.optional(),\n",
    "                       )\n",
    "                  ) .interpretation(address_fact.street),\n",
    "               rule(predicates.eq(',').optional(),\n",
    "                    house_pipe,\n",
    "                    predicates.eq('.').optional(),\n",
    "                    rule(INT,\n",
    "                         SLASH.optional(),\n",
    "                         INT.optional(),\n",
    "                         rule(COMMA,                # optional 'корпус'\n",
    "                              predicates.eq('корп'),\n",
    "                              DOT,\n",
    "                              INT).optional()\n",
    "                        ).interpretation(address_fact.house)\n",
    "                   ).optional()\n",
    "              ).interpretation(address_fact).interpretation(flat_fact.address)\n",
    "\n",
    "example_1 = 'Арбатская м. 1-комн. кв-ру, или м.Кропоткинская 7 мин/п, Староконюшенный пер., д.30. 35/21 кв.м, кухня 10'\n",
    "example_2 = 'Арбатская м. 1-комн. кв ру, 5 м/пеш., ул.Арбат дом 15/43; 53/20/13 кв.м,'\n",
    "example_3 = '1-комн. кв-ру, ул.Б.Грузинская, д.14, 36/20.2 кв.м'\n",
    "example_4 = 'Аптекарский пер., д.3/22, 30/16.2 кв.м'\n",
    "example_5 = '5 мин/п., Токмаков пер., 28/16 кв.м'\n",
    "example_6 = 'ул. Бутырский вал, д. 34,'\n",
    "example_7 = 'Б.Тишинский пер., 22/15 кв.м'\n",
    "\n",
    "show_matches(\n",
    "    ADDRESS,\n",
    "    example_1,\n",
    "    example_2,\n",
    "    example_3,\n",
    "    example_4,\n",
    "    example_5,\n",
    "    example_6,\n",
    "    example_7\n",
    ")"
   ]
  },
  {
   "cell_type": "markdown",
   "metadata": {},
   "source": [
    "### Атрибут FLOOR AREA"
   ]
  },
  {
   "cell_type": "code",
   "execution_count": 11,
   "metadata": {},
   "outputs": [
    {
     "data": {
      "text/html": [
       "<div class=\"tex2jax_ignore\" style=\"white-space: pre-wrap\">Староконюшенный пер., д.30. <span style=\"padding: 2px; border-radius: 4px; border: 1px solid #bbdefb; background: #e3f2fd\">35/21 кв.м, кухня 10</span>, 10/12 эт,</div>"
      ],
      "text/plain": [
       "BoxMarkup('Староконюшенный пер., д.30. 35/21 кв.м, кухня 10, 10/12 эт,',\n",
       "          [Span(28, 48, None)])"
      ]
     },
     "metadata": {},
     "output_type": "display_data"
    },
    {
     "data": {
      "text/html": [
       "<div class=\"tex2jax_ignore\" style=\"white-space: pre-wrap\">ул.Арбат дом 15/43; <span style=\"padding: 2px; border-radius: 4px; border: 1px solid #bbdefb; background: #e3f2fd\">53/20/13 кв.м</span>, еврорем., 4/6-эт. кирп.</div>"
      ],
      "text/plain": [
       "BoxMarkup('ул.Арбат дом 15/43; 53/20/13 кв.м, еврорем., 4/6-эт. кирп.',\n",
       "          [Span(20, 33, None)])"
      ]
     },
     "metadata": {},
     "output_type": "display_data"
    },
    {
     "data": {
      "text/html": [
       "<div class=\"tex2jax_ignore\" style=\"white-space: pre-wrap\">ул.М.Почтовая, 10; <span style=\"padding: 2px; border-radius: 4px; border: 1px solid #bbdefb; background: #e3f2fd\">44/21 кв.м, кухня 13.5</span>, 2/8-эт. </div>"
      ],
      "text/plain": [
       "BoxMarkup('ул.М.Почтовая, 10; 44/21 кв.м, кухня 13.5, 2/8-эт. ',\n",
       "          [Span(19, 41, None)])"
      ]
     },
     "metadata": {},
     "output_type": "display_data"
    },
    {
     "data": {
      "text/html": [
       "<div class=\"tex2jax_ignore\" style=\"white-space: pre-wrap\"><span style=\"padding: 2px; border-radius: 4px; border: 1px solid #bbdefb; background: #e3f2fd\">34/15 кв.м. кухня 7</span>,</div>"
      ],
      "text/plain": [
       "BoxMarkup('34/15 кв.м. кухня 7,', [Span(0, 19, None)])"
      ]
     },
     "metadata": {},
     "output_type": "display_data"
    }
   ],
   "source": [
    "floor_area_fact = fact('floor_area',\n",
    "                       ['area_1',\n",
    "                        'area_2',\n",
    "                        'area_3',\n",
    "                        'kitchen',\n",
    "                        'recessed_balcony'\n",
    "                       ])\n",
    "\n",
    "sq_m_pipe = pipelines.morph_pipeline([\n",
    "      'кв.м',\n",
    "      'кв. м',\n",
    "      ]\n",
    ")\n",
    "\n",
    "FLOOR_AREA = rule(\n",
    "    INT_OR_FLOAT.interpretation(floor_area_fact.area_1),\n",
    "    SLASH,\n",
    "    INT_OR_FLOAT.interpretation(floor_area_fact.area_2),\n",
    "    SLASH.optional(),\n",
    "    INT_OR_FLOAT.interpretation(floor_area_fact.area_3).optional(),\n",
    "    sq_m_pipe,\n",
    "    rule(or_(COMMA, DOT),\n",
    "         predicates.in_(['кухня', 'кух']),\n",
    "         DOT.optional(),\n",
    "         INT_OR_FLOAT.interpretation(floor_area_fact.kitchen)\n",
    "        ).optional(),\n",
    "    rule(COMMA,\n",
    "         predicates.eq('лоджия'),\n",
    "         INT_OR_FLOAT.interpretation(floor_area_fact.recessed_balcony)).optional()\n",
    ").interpretation(floor_area_fact).interpretation(flat_fact.floor_area)\n",
    "\n",
    "example_1 = 'Староконюшенный пер., д.30. 35/21 кв.м, кухня 10, 10/12 эт,'\n",
    "example_2 = 'ул.Арбат дом 15/43; 53/20/13 кв.м, еврорем., 4/6-эт. кирп.'\n",
    "example_3 = 'ул.М.Почтовая, 10; 44/21 кв.м, кухня 13.5, 2/8-эт. '\n",
    "example_4 = '34/15 кв.м. кухня 7,'\n",
    "\n",
    "show_matches(\n",
    "    FLOOR_AREA,\n",
    "    example_1,\n",
    "    example_2,\n",
    "    example_3,\n",
    "    example_4,\n",
    "#     example_5,\n",
    "#     example_6\n",
    ")"
   ]
  },
  {
   "cell_type": "markdown",
   "metadata": {},
   "source": [
    "### Атрибут FLOOR NUMBER"
   ]
  },
  {
   "cell_type": "code",
   "execution_count": 12,
   "metadata": {},
   "outputs": [
    {
     "data": {
      "text/html": [
       "<div class=\"tex2jax_ignore\" style=\"white-space: pre-wrap\">Староконюшенный пер., д.30. 35/21 кв.м, кухня 10, <span style=\"padding: 2px; border-radius: 4px; border: 1px solid #bbdefb; background: #e3f2fd\">10/12 эт</span>, блоч. дома,</div>"
      ],
      "text/plain": [
       "BoxMarkup('Староконюшенный пер., д.30. 35/21 кв.м, кухня 10, 10/12 эт, блоч. дома,',\n",
       "          [Span(50, 58, None)])"
      ]
     },
     "metadata": {},
     "output_type": "display_data"
    },
    {
     "data": {
      "text/html": [
       "<div class=\"tex2jax_ignore\" style=\"white-space: pre-wrap\">ул.Арбат дом 15/43; 53/20/13 кв.м, еврорем., <span style=\"padding: 2px; border-radius: 4px; border: 1px solid #bbdefb; background: #e3f2fd\">4/6-эт</span>. кирп. дома,</div>"
      ],
      "text/plain": [
       "BoxMarkup('ул.Арбат дом 15/43; 53/20/13 кв.м, еврорем., 4/6-эт. кирп. дома,',\n",
       "          [Span(45, 51, None)])"
      ]
     },
     "metadata": {},
     "output_type": "display_data"
    }
   ],
   "source": [
    "floor_fact = fact('floor', ['floor_num', 'floor_ttl'])\n",
    "\n",
    "floor_num_pipe = pipelines.morph_pipeline([\n",
    "    'эт',\n",
    "    '-эт',\n",
    "    'эт.',\n",
    "    'этаж',\n",
    "    'пан',\n",
    "    'кирп',\n",
    "    '-пан'\n",
    "      ]\n",
    ")\n",
    "\n",
    "FLOOR = rule(rule(\n",
    "             INT.interpretation(floor_fact.floor_num),\n",
    "             SLASH,\n",
    "             INT.interpretation(floor_fact.floor_ttl),\n",
    "             floor_num_pipe,\n",
    "            ).interpretation(floor_fact).interpretation(flat_fact.floor))\n",
    "\n",
    "example_1 = 'Староконюшенный пер., д.30. 35/21 кв.м, кухня 10, 10/12 эт, блоч. дома,'\n",
    "example_2 = 'ул.Арбат дом 15/43; 53/20/13 кв.м, еврорем., 4/6-эт. кирп. дома,'\n",
    "\n",
    "show_matches(\n",
    "    FLOOR,\n",
    "    example_1,\n",
    "    example_2,\n",
    ")"
   ]
  },
  {
   "cell_type": "markdown",
   "metadata": {},
   "source": [
    "### Атрибут PRICE"
   ]
  },
  {
   "cell_type": "code",
   "execution_count": 13,
   "metadata": {},
   "outputs": [
    {
     "data": {
      "text/html": [
       "<div class=\"tex2jax_ignore\" style=\"white-space: pre-wrap\">продаю, <span style=\"padding: 2px; border-radius: 4px; border: 1px solid #bbdefb; background: #e3f2fd\">45 тыс.$</span>. Торг Т 557-00-73</div>"
      ],
      "text/plain": [
       "BoxMarkup('продаю, 45 тыс.$. Торг Т 557-00-73', [Span(8, 16, None)])"
      ]
     },
     "metadata": {},
     "output_type": "display_data"
    },
    {
     "data": {
      "text/html": [
       "<div class=\"tex2jax_ignore\" style=\"white-space: pre-wrap\">хозяин, <span style=\"padding: 2px; border-radius: 4px; border: 1px solid #bbdefb; background: #e3f2fd\">130 тыс.$</span>. Торг. Т.762-55-67, С</div>"
      ],
      "text/plain": [
       "BoxMarkup('хозяин, 130 тыс.$. Торг. Т.762-55-67, С', [Span(8, 17, None)])"
      ]
     },
     "metadata": {},
     "output_type": "display_data"
    }
   ],
   "source": [
    "money_pipe = pipelines.morph_pipeline([\n",
    "    'тыс. $',\n",
    "])\n",
    "PRICE = rule(\n",
    "             INT_OR_FLOAT,\n",
    "             money_pipe\n",
    "            ).interpretation(flat_fact.price)\n",
    "\n",
    "    \n",
    "example_1 = 'продаю, 45 тыс.$. Торг Т 557-00-73'\n",
    "example_2 = 'хозяин, 130 тыс.$. Торг. Т.762-55-67, С'\n",
    "\n",
    "show_matches(\n",
    "    PRICE,\n",
    "    example_1,\n",
    "    example_2,\n",
    ")"
   ]
  },
  {
   "cell_type": "markdown",
   "metadata": {},
   "source": [
    "### Атрибут TELEPHONE"
   ]
  },
  {
   "cell_type": "code",
   "execution_count": 14,
   "metadata": {},
   "outputs": [
    {
     "data": {
      "text/html": [
       "<div class=\"tex2jax_ignore\" style=\"white-space: pre-wrap\">продаю, 45 тыс.$. Торг <span style=\"padding: 2px; border-radius: 4px; border: 1px solid #bbdefb; background: #e3f2fd\">Т 557-00-73</span></div>"
      ],
      "text/plain": [
       "BoxMarkup('продаю, 45 тыс.$. Торг Т 557-00-73', [Span(23, 34, None)])"
      ]
     },
     "metadata": {},
     "output_type": "display_data"
    },
    {
     "data": {
      "text/html": [
       "<div class=\"tex2jax_ignore\" style=\"white-space: pre-wrap\">хозяин, 130 тыс.$. Торг. <span style=\"padding: 2px; border-radius: 4px; border: 1px solid #bbdefb; background: #e3f2fd\">Т.762-55-67</span>, С</div>"
      ],
      "text/plain": [
       "BoxMarkup('хозяин, 130 тыс.$. Торг. Т.762-55-67, С', [Span(25, 36, None)])"
      ]
     },
     "metadata": {},
     "output_type": "display_data"
    },
    {
     "data": {
      "text/html": [
       "<div class=\"tex2jax_ignore\" style=\"white-space: pre-wrap\">27 тыс.$. <span style=\"padding: 2px; border-radius: 4px; border: 1px solid #bbdefb; background: #e3f2fd\">Т.737-76-67</span>, раб., <span style=\"padding: 2px; border-radius: 4px; border: 1px solid #bbdefb; background: #e3f2fd\">Т.265-23-31</span>, дом.</div>"
      ],
      "text/plain": [
       "BoxMarkup('27 тыс.$. Т.737-76-67, раб., Т.265-23-31, дом.',\n",
       "          [Span(10, 21, None), Span(29, 40, None)])"
      ]
     },
     "metadata": {},
     "output_type": "display_data"
    }
   ],
   "source": [
    "tele_pipe = pipelines.morph_pipeline([\n",
    "    'Т',\n",
    "])\n",
    "TELE = rule(tele_pipe,\n",
    "            DOT.optional(),\n",
    "            rule(INT,\n",
    "            DASH,\n",
    "            INT,\n",
    "            DASH,\n",
    "            INT).repeatable().interpretation(flat_fact.telephone)\n",
    "           ).repeatable()\n",
    "\n",
    "example_1 = 'продаю, 45 тыс.$. Торг Т 557-00-73'\n",
    "example_2 = 'хозяин, 130 тыс.$. Торг. Т.762-55-67, С'\n",
    "example_3 = '27 тыс.$. Т.737-76-67, раб., Т.265-23-31, дом.'\n",
    "\n",
    "show_matches(\n",
    "    TELE,\n",
    "    example_1,\n",
    "    example_2,\n",
    "    example_3\n",
    ")"
   ]
  },
  {
   "cell_type": "markdown",
   "metadata": {},
   "source": [
    "### ADVERTISEMENT -- союз всех атибутов; WRAPPER -- обертка поверх союза атрибутов"
   ]
  },
  {
   "cell_type": "code",
   "execution_count": 15,
   "metadata": {},
   "outputs": [],
   "source": [
    "AD = or_(METRO.repeatable(),\n",
    "         ROOMS,\n",
    "         ADDRESS,\n",
    "         FLOOR_AREA,\n",
    "         FLOOR,\n",
    "         PRICE,\n",
    "         TELE\n",
    "        ).interpretation(flat_fact)\n",
    "\n",
    "WRAPPER = rule(\n",
    "    METRO.repeatable(),\n",
    "    ROOMS.optional(),\n",
    "    METRO.optional().repeatable(),\n",
    "    ADDRESS.optional(),\n",
    "    FLOOR_AREA.optional(),\n",
    "    FLOOR.optional(),\n",
    "    PRICE.optional(),\n",
    "    TELE.optional().repeatable()\n",
    ").interpretation(flat_fact)"
   ]
  },
  {
   "cell_type": "markdown",
   "metadata": {},
   "source": [
    "### Тесты"
   ]
  },
  {
   "cell_type": "code",
   "execution_count": 16,
   "metadata": {
    "scrolled": true
   },
   "outputs": [
    {
     "name": "stdout",
     "output_type": "stream",
     "text": [
      "flat(metro=['Белорусская'], rooms='1', address=address(street='Б.Тишинский пер.', house=None), floor_area=floor_area(area_1='22', area_2='15', area_3=None, kitchen=None, recessed_balcony=None), floor=floor(floor_num='2', floor_ttl='6'), price='18 тыс.$', telephone=['253-30-92'])\n"
     ]
    }
   ],
   "source": [
    "# tests\n",
    "text = TEXTS[0]\n",
    "extractor = Extractor(AD, WRAPPER)\n",
    "match = extractor(text)\n",
    "assert match.fact.as_json['metro'] == ['Арбатская', 'Кропоткинская']\n",
    "assert match.fact.as_json['rooms'] == '1'\n",
    "assert match.fact.as_json['address']['street'] == 'Староконюшенный пер.'\n",
    "assert match.fact.as_json['address']['house'] == '30'\n",
    "assert match.fact.as_json['floor_area']['area_1'] == '35'\n",
    "assert match.fact.as_json['floor_area']['area_2'] == '21'\n",
    "assert match.fact.as_json['floor']['floor_num'] == '10'\n",
    "assert match.fact.as_json['floor']['floor_ttl'] == '12'\n",
    "assert match.fact.as_json['price'] == '45 тыс.$'\n",
    "assert match.fact.as_json['telephone'] == ['557-00-73']\n",
    "\n",
    "text = TEXTS[1]\n",
    "extractor = Extractor(AD, WRAPPER)\n",
    "match = extractor(text)\n",
    "assert match.fact.as_json['metro'] == ['Арбатская']\n",
    "assert match.fact.as_json['rooms'] == '1'\n",
    "assert match.fact.as_json['address']['street'] == 'ул.Арбат'\n",
    "assert match.fact.as_json['address']['house'] == '15/43'\n",
    "assert match.fact.as_json['floor_area']['area_1'] == '53'\n",
    "assert match.fact.as_json['floor_area']['area_2'] == '20'\n",
    "assert match.fact.as_json['floor_area']['area_3'] == '13'\n",
    "assert match.fact.as_json['floor']['floor_num'] == '4'\n",
    "assert match.fact.as_json['floor']['floor_ttl'] == '6'\n",
    "assert match.fact.as_json['price'] == '130 тыс.$'\n",
    "assert match.fact.as_json['telephone'] == ['762-55-67']\n",
    "\n",
    "text = TEXTS[2]\n",
    "extractor = Extractor(AD, WRAPPER)\n",
    "match = extractor(text)\n",
    "assert match.fact.as_json['metro'] == [\"Баррикадная\"]\n",
    "assert match.fact.as_json['rooms'] == \"1\"\n",
    "assert match.fact.as_json['address']['street'] == \"ул.Б.Грузинская\"\n",
    "assert match.fact.as_json['address']['house'] == \"14\"\n",
    "assert match.fact.as_json['floor_area']['area_1'] == \"36\"\n",
    "assert match.fact.as_json['floor_area']['area_2'] == \"20.2\"\n",
    "assert match.fact.as_json['floor_area'][\"kitchen\"] == \"8.3\"\n",
    "assert match.fact.as_json['floor']['floor_num'] == \"2\"\n",
    "assert match.fact.as_json['floor']['floor_ttl'] == \"14\"\n",
    "assert match.fact.as_json['telephone'] == [\"962-30-63\"]\n",
    "\n",
    "text = TEXTS[9]\n",
    "extractor = Extractor(AD, WRAPPER)\n",
    "match = extractor(text)\n",
    "assert match.fact.as_json['metro'] == [\"Бауманская\"]\n",
    "assert match.fact.as_json['rooms'] == \"1\"\n",
    "assert match.fact.as_json['address']['street'] == \"Токмаков пер.\"\n",
    "assert match.fact.as_json['floor_area']['area_1'] == \"28\"\n",
    "assert match.fact.as_json['floor_area']['area_2'] == \"16\"\n",
    "assert match.fact.as_json['floor_area'][\"kitchen\"] == \"5.5\"\n",
    "assert match.fact.as_json['floor']['floor_num'] == \"6\"\n",
    "assert match.fact.as_json['floor']['floor_ttl'] == \"7\"\n",
    "assert match.fact.as_json['price'] == \"17тыс.$\"\n",
    "assert match.fact.as_json['telephone'] == [\"978-92-94\"]\n",
    "\n",
    "text = TEXTS[10]\n",
    "extractor = Extractor(AD, WRAPPER)\n",
    "match = extractor(text)\n",
    "assert match.fact.as_json['metro'] == [\"Бауманская\"]\n",
    "assert match.fact.as_json['rooms'] == \"1\"\n",
    "assert match.fact.as_json['address']['street'] == \"ул. Б. Почтовая\"\n",
    "assert match.fact.as_json['address']['house'] == \"18/20, корп. 16\"\n",
    "assert match.fact.as_json['floor_area']['area_1'] == \"34\"\n",
    "assert match.fact.as_json['floor_area']['area_2'] == \"15\"\n",
    "assert match.fact.as_json['floor']['floor_num'] == \"5\"\n",
    "assert match.fact.as_json['floor']['floor_ttl'] == \"5\"\n",
    "assert match.fact.as_json['price'] == \"23.5 тыс.$\"\n",
    "assert match.fact.as_json['telephone'] == [\"218-59-90\"]\n",
    "\n",
    "text = TEXTS[16]\n",
    "extractor = Extractor(AD, WRAPPER)\n",
    "match = extractor(text)\n",
    "assert match.fact.as_json['metro'] == [\"Белорусская\"]\n",
    "assert match.fact.as_json['rooms'] == \"1\"\n",
    "assert match.fact.as_json['address']['street'] == \"ул.Нижняя\"\n",
    "assert match.fact.as_json['address']['house'] == \"5\"\n",
    "assert match.fact.as_json['floor_area']['area_1'] == \"31,3\"\n",
    "assert match.fact.as_json['floor_area']['area_2'] == \"13,4\"\n",
    "assert match.fact.as_json['floor_area'][\"kitchen\"] == \"9,2\"\n",
    "assert match.fact.as_json['floor']['floor_num'] == \"3\"\n",
    "assert match.fact.as_json['floor']['floor_ttl'] == \"5\"\n",
    "assert match.fact.as_json['price'] == \"25 тыс.$\"\n",
    "assert match.fact.as_json['telephone'] == [\"318-94-49\"]\n",
    "\n",
    "text = TEXTS[17]\n",
    "extractor = Extractor(AD, WRAPPER)\n",
    "match = extractor(text)\n",
    "assert match.fact.as_json['metro'] == [\"Белорусская\"]\n",
    "assert match.fact.as_json['rooms'] == \"1\"\n",
    "assert match.fact.as_json['address']['street'] == \"ул.Верхняя\"\n",
    "assert match.fact.as_json['address']['house'] == \"6\"\n",
    "assert match.fact.as_json['floor_area']['area_1'] == \"43\"\n",
    "assert match.fact.as_json['floor_area']['area_2'] == \"20\"\n",
    "assert match.fact.as_json['floor_area'][\"kitchen\"] == \"13\"\n",
    "assert match.fact.as_json['floor']['floor_num'] == \"2\"\n",
    "assert match.fact.as_json['floor']['floor_ttl'] == \"14\"\n",
    "assert match.fact.as_json['price'] == \"41.5 тыс.$\"\n",
    "assert match.fact.as_json['telephone'] == [\"405-85-64\"]\n",
    "\n",
    "text = TEXTS[18]\n",
    "extractor = Extractor(AD, WRAPPER)\n",
    "match = extractor(text)\n",
    "assert match.fact.as_json['metro'] == [\"Белорусская\"]\n",
    "assert match.fact.as_json['rooms'] == \"1\"\n",
    "assert match.fact.as_json['address']['street'] == \"ул. Бутырский вал\"\n",
    "assert match.fact.as_json['address']['house'] == \"34\"\n",
    "assert match.fact.as_json['floor_area']['area_1'] == \"36\"\n",
    "assert match.fact.as_json['floor_area']['area_2'] == \"20\"\n",
    "assert match.fact.as_json['floor']['floor_num'] == \"12\"\n",
    "assert match.fact.as_json['floor']['floor_ttl'] == \"12\"\n",
    "assert match.fact.as_json['price'] == \"28 тыс.$\"\n",
    "assert match.fact.as_json['telephone'] == [\"299-96-51\"]\n",
    "\n",
    "text = TEXTS[19]\n",
    "extractor = Extractor(AD, WRAPPER)\n",
    "match = extractor(text)\n",
    "assert match.fact.as_json['metro'] == [\"Белорусская\"]\n",
    "assert match.fact.as_json['rooms'] == \"1\"\n",
    "assert match.fact.as_json['address']['street'] == \"Б.Тишинский пер.\"\n",
    "assert match.fact.as_json['floor_area']['area_1'] == \"22\"\n",
    "assert match.fact.as_json['floor_area']['area_2'] == \"15\"\n",
    "assert match.fact.as_json['floor']['floor_num'] == \"2\"\n",
    "assert match.fact.as_json['floor']['floor_ttl'] == \"6\"\n",
    "assert match.fact.as_json['price'] == \"18 тыс.$\"\n",
    "assert match.fact.as_json['telephone'] == [\"253-30-92\"]\n",
    "print(match.fact)"
   ]
  },
  {
   "cell_type": "code",
   "execution_count": 17,
   "metadata": {
    "scrolled": true
   },
   "outputs": [
    {
     "data": {
      "text/html": [
       "<div class=\"tex2jax_ignore\" style=\"white-space: pre-wrap\">text4. ann4. <span style=\"padding: 2px; border-radius: 4px; border: 1px solid #bbdefb; background: #e3f2fd\">Бауманская м.</span> <span style=\"padding: 2px; border-radius: 4px; border: 1px solid #bbdefb; background: #e3f2fd\">1-комн.</span> кв-ру, 5 мин/п., <span style=\"padding: 2px; border-radius: 4px; border: 1px solid #bbdefb; background: #e3f2fd\">Аптекарский пер., д.3/22</span>, <span style=\"padding: 2px; border-radius: 4px; border: 1px solid #bbdefb; background: #e3f2fd\">30/16.2 кв.м, кухня 8</span>, вые. бельэтаж/8-эт, кирп. дома, тел., с/у совм. больш., хор. сост., хор. двор, тихо, свободную, <span style=\"padding: 2px; border-radius: 4px; border: 1px solid #bbdefb; background: #e3f2fd\">27 тыс.$</span>. <span style=\"padding: 2px; border-radius: 4px; border: 1px solid #bbdefb; background: #e3f2fd\">Т.737-76-67</span>, раб., <span style=\"padding: 2px; border-radius: 4px; border: 1px solid #bbdefb; background: #e3f2fd\">Т.265-23-31</span>, дом., Аня</div>"
      ],
      "text/plain": [
       "BoxMarkup('text4. ann4. Бауманская м. 1-комн. кв-ру, 5 мин/п., Аптекарский пер., д.3/22, 30/16.2 кв.м, кухня 8, вые. бельэтаж/8-эт, кирп. дома, тел., с/у совм. больш., хор. сост., хор. двор, тихо, свободную, 27 тыс.$. Т.737-76-67, раб., Т.265-23-31, дом., Аня',\n",
       "          [Span(13, 26, None),\n",
       "           Span(27, 34, None),\n",
       "           Span(52, 76, None),\n",
       "           Span(78, 99, None),\n",
       "           Span(197, 205, None),\n",
       "           Span(207, 218, None),\n",
       "           Span(226, 237, None)])"
      ]
     },
     "metadata": {},
     "output_type": "display_data"
    },
    {
     "name": "stdout",
     "output_type": "stream",
     "text": [
      "{'metro': ['Бауманская'], 'rooms': '1', 'address': {'street': 'Аптекарский пер.', 'house': '3/22'}, 'floor_area': {'area_1': '30', 'area_2': '16.2', 'kitchen': '8'}, 'price': '27 тыс.$', 'telephone': ['737-76-67', '265-23-31']}\n",
      "{\n",
      "  \"metro\": [\n",
      "    \"Бауманская\"\n",
      "  ],\n",
      "  \"rooms\": \"1\",\n",
      "  \"address\": {\n",
      "    \"street\": \"Аптекарский пер.\",\n",
      "    \"house\": \"3/22\"\n",
      "  },\n",
      "  \"floor_area\": {\n",
      "    \"area_1\": \"30\",\n",
      "    \"area_2\": \"16.2\",\n",
      "    \"kitchen\": \"8\"\n",
      "  },\n",
      "  \"price\": \"27 тыс.$\",\n",
      "  \"telephone\": [\n",
      "    \"737-76-67\",\n",
      "    \"265-23-31\"\n",
      "  ]\n",
      "}\n"
     ]
    }
   ],
   "source": [
    "# text = TEXTS[14]  # problems here!\n",
    "# text = TEXTS[15]\n",
    "text = TEXTS[3]\n",
    "extractor = Extractor(AD, WRAPPER)\n",
    "match = extractor(text)\n",
    "show_markup(text, match.spans)\n",
    "if match.fact:\n",
    "    print(json.loads(json.dumps(match.fact.as_json, ensure_ascii=False)))\n",
    "    show_json(match.fact.as_json)"
   ]
  },
  {
   "cell_type": "code",
   "execution_count": 18,
   "metadata": {
    "scrolled": true
   },
   "outputs": [
    {
     "name": "stdout",
     "output_type": "stream",
     "text": [
      "18\n"
     ]
    }
   ],
   "source": [
    "# Put all ads into a dict\n",
    "json_data = {'flat_sale_ads': []}\n",
    "extractor = Extractor(AD, WRAPPER)\n",
    "for text in TEXTS:\n",
    "    match = extractor(text)\n",
    "    if match.fact:\n",
    "        json_data['flat_sale_ads'].append(json.loads(json.dumps(match.fact.as_json, ensure_ascii=False)))\n",
    "\n",
    "print(len(json_data['flat_sale_ads']))"
   ]
  },
  {
   "cell_type": "code",
   "execution_count": 19,
   "metadata": {},
   "outputs": [],
   "source": [
    "# Write to a json file\n",
    "with open(os.path.join('data', 'flats_data.json'), 'w', encoding='utf-8') as f:\n",
    "    json.dump(json_data,\n",
    "              f,\n",
    "              ensure_ascii=False,\n",
    "              indent=4,\n",
    "              sort_keys=True\n",
    "             )"
   ]
  },
  {
   "cell_type": "code",
   "execution_count": null,
   "metadata": {},
   "outputs": [],
   "source": []
  }
 ],
 "metadata": {
  "kernelspec": {
   "display_name": "yargy",
   "language": "python",
   "name": "yargy"
  },
  "language_info": {
   "codemirror_mode": {
    "name": "ipython",
    "version": 3
   },
   "file_extension": ".py",
   "mimetype": "text/x-python",
   "name": "python",
   "nbconvert_exporter": "python",
   "pygments_lexer": "ipython3",
   "version": "3.6.10"
  }
 },
 "nbformat": 4,
 "nbformat_minor": 4
}
