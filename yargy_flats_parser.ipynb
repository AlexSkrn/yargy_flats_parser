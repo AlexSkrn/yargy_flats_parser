{
 "cells": [
  {
   "cell_type": "markdown",
   "metadata": {},
   "source": [
    "# Частичный разбор объявлений о продаже квартир\n",
    "\n",
    "\n",
    "Пример объявления:\n",
    "\n",
    "```\n",
    "text1. ann1. Арбатская м. 1-комн. кв-ру, или м.Кропоткинская 7 мин/п, Староконюшенный пер., д.30. 35/21 кв.м, кухня 10, 10/12 эт, блоч. дома, балкон, тел., хор. сост., с/у совм., окна в тихий сквер, освобождение сразу, продаю, 45 тыс.$. Торг Т 557-00-73 \n",
    "```\n",
    "\n",
    "Результат разбора я представляю в виде отдельного файла в формате json, где каждое объявление -- это отдельный объект:\n",
    "\n",
    "```\n",
    "{\n",
    "    \"flat_sale_ads\": [\n",
    "        {\n",
    "            \"address\": {\n",
    "                \"house\": \"30\",\n",
    "                \"street\": \"Староконюшенный пер.\"\n",
    "            },\n",
    "            \"floor\": {\n",
    "                \"floor_num\": \"10\",\n",
    "                \"floor_ttl\": \"12\"\n",
    "            },\n",
    "            \"floor_area\": {\n",
    "                \"area_1\": \"35\",\n",
    "                \"area_2\": \"21\",\n",
    "                \"kitchen\": \"10\"\n",
    "            },\n",
    "            \"metro\": [\n",
    "                \"Арбатская\",\n",
    "                \"Кропоткинская\"\n",
    "            ],\n",
    "            \"price\": {\n",
    "                \"amount\": 45000,\n",
    "                \"currency\": \"USD\"\n",
    "            },\n",
    "            \"rooms\": \"1\",\n",
    "            \"telephone\": [\n",
    "                \"557-00-73\"\n",
    "            ]\n",
    "        },\n",
    "        ...\n",
    "    ]\n",
    "}\n",
    "```"
   ]
  },
  {
   "cell_type": "code",
   "execution_count": 1,
   "metadata": {},
   "outputs": [
    {
     "data": {
      "text/plain": [
       "'/Users/alexskrn/opt/anaconda3/envs/yargy/bin/python3'"
      ]
     },
     "execution_count": 1,
     "metadata": {},
     "output_type": "execute_result"
    }
   ],
   "source": [
    "# Проверить, что я нахожусь в правильном виртуальном окружении\n",
    "import sys\n",
    "sys.executable # !which python on Mac\n",
    "# /Users/alexskrn/opt/anaconda3/envs/yargy/bin/python"
   ]
  },
  {
   "cell_type": "code",
   "execution_count": 2,
   "metadata": {},
   "outputs": [],
   "source": [
    "import os\n",
    "import re\n",
    "import json\n",
    "\n",
    "from yargy import Parser\n",
    "from yargy import rule\n",
    "from yargy import predicates\n",
    "from yargy import or_, and_, not_\n",
    "from yargy import pipelines\n",
    "from yargy.interpretation import fact, attribute\n",
    "from ipymarkup import show_markup"
   ]
  },
  {
   "cell_type": "code",
   "execution_count": 3,
   "metadata": {},
   "outputs": [],
   "source": [
    "# Вспомогательные функции и класс\n",
    "\n",
    "def show_matches(rule, *lines):\n",
    "    parser = Parser(rule)\n",
    "    for line in lines:\n",
    "        matches = parser.findall(line)\n",
    "        spans = [_.span for _ in matches]\n",
    "        show_markup(line, spans)\n",
    "\n",
    "def load_lines(path):\n",
    "    with open(path) as file:\n",
    "        for line in file:\n",
    "            yield line.rstrip('\\n')\n",
    "\n",
    "\n",
    "def show_json(data):\n",
    "    print(json.dumps(data, indent=2, ensure_ascii=False))\n",
    "\n",
    "\n",
    "def join_spans(text, spans):\n",
    "    spans = sorted(spans)\n",
    "    return ' '.join(\n",
    "        text[start:stop]\n",
    "        for start, stop in spans\n",
    "    )\n",
    "\n",
    "\n",
    "class Match(object):\n",
    "    def __init__(self, fact, spans):\n",
    "        self.fact = fact\n",
    "        self.spans = spans\n",
    "        \n",
    "\n",
    "class Extractor(object):\n",
    "    \"\"\"This class wraps up an 'or_'-based parser to create a single object.\"\"\"\n",
    "    def __init__(self, union_rule_obj, wrapper_obj):\n",
    "        self.union_rule_obj_parser = Parser(union_rule_obj)\n",
    "        self.wrapper_parser = Parser(wrapper_obj)\n",
    "\n",
    "    def __call__(self, text):\n",
    "        matches = self.union_rule_obj_parser.findall(text)\n",
    "        spans = [_.span for _ in matches]\n",
    "\n",
    "        line = join_spans(text, spans)\n",
    "        matches = list(self.wrapper_parser.findall(line))\n",
    "        fact = None\n",
    "        if matches:\n",
    "            match = matches[0]\n",
    "            fact = match.fact\n",
    "\n",
    "        return Match(fact, spans)"
   ]
  },
  {
   "cell_type": "code",
   "execution_count": 4,
   "metadata": {},
   "outputs": [],
   "source": [
    "# Станции метро\n",
    "METRO_STATIONS = set(load_lines(os.path.join('dicts', 'metro.txt')))\n",
    "METRO_STATIONS_UPPER = set([station.upper() for station in METRO_STATIONS])"
   ]
  },
  {
   "cell_type": "markdown",
   "metadata": {},
   "source": [
    "## Данные"
   ]
  },
  {
   "cell_type": "code",
   "execution_count": 5,
   "metadata": {},
   "outputs": [
    {
     "name": "stdout",
     "output_type": "stream",
     "text": [
      "Количество объявлений: 20\n",
      "\n",
      "text1. ann1. Арбатская м. 1-комн. кв-ру, или м.Кропоткинская 7 мин/п, Староконюшенный пер., д.30. 35/21 кв.м, кухня 10, 10/12 эт, блоч. дома, балкон, тел., хор. сост., с/у совм., окна в тихий сквер, освобождение сразу, продаю, 45 тыс.$. Торг Т 557-00-73\n"
     ]
    }
   ],
   "source": [
    "# Список текстов объявлений\n",
    "TEXTS = []\n",
    "with open(os.path.join('data', 'flats.txt'), 'r', encoding='utf8') as fromF:\n",
    "    for line in fromF:\n",
    "        line = line.strip()\n",
    "        if line:\n",
    "            TEXTS.append(line)\n",
    "print(f'Количество объявлений: {len(TEXTS)}\\n')\n",
    "print(TEXTS[0])"
   ]
  },
  {
   "cell_type": "markdown",
   "metadata": {},
   "source": [
    "### ОБЩИЕ ПРАВИЛА"
   ]
  },
  {
   "cell_type": "code",
   "execution_count": 6,
   "metadata": {},
   "outputs": [],
   "source": [
    "INT = rule(predicates.type('INT'))\n",
    "\n",
    "FLOAT = rule(\n",
    "    INT,\n",
    "    predicates.in_({',', '.'}),\n",
    "    predicates.in_('123456789')  # не больше одного знака после запятой\n",
    ")\n",
    "\n",
    "INT_OR_FLOAT = rule(or_(INT, FLOAT))\n",
    "\n",
    "SLASH = predicates.eq('/')\n",
    "DASH = predicates.eq('-')\n",
    "DOT = predicates.eq('.')\n",
    "COMMA = predicates.eq(',')"
   ]
  },
  {
   "cell_type": "markdown",
   "metadata": {},
   "source": [
    "## Определение всех атрибутов объекта разбора -- объявления о продаже"
   ]
  },
  {
   "cell_type": "code",
   "execution_count": 7,
   "metadata": {},
   "outputs": [],
   "source": [
    "flat_fact = fact('flat',\n",
    "                 [attribute('metro').repeatable(),\n",
    "                  'rooms',\n",
    "                  'address',\n",
    "                  'floor_area',\n",
    "                  'floor',\n",
    "                  'price',\n",
    "                  attribute('telephone').repeatable()\n",
    "                 ]\n",
    "           )"
   ]
  },
  {
   "cell_type": "markdown",
   "metadata": {},
   "source": [
    "## Определения каждого из атрибутов объекта разбора"
   ]
  },
  {
   "cell_type": "markdown",
   "metadata": {},
   "source": [
    "### Атрибут METRO"
   ]
  },
  {
   "cell_type": "code",
   "execution_count": 8,
   "metadata": {},
   "outputs": [
    {
     "data": {
      "text/html": [
       "<div class=\"tex2jax_ignore\" style=\"white-space: pre-wrap\">text1. ann1. <span style=\"padding: 2px; border-radius: 4px; border: 1px solid #bbdefb; background: #e3f2fd\">Арбатская м.</span> 1-комн. кв-ру, или <span style=\"padding: 2px; border-radius: 4px; border: 1px solid #bbdefb; background: #e3f2fd\">м.Кропоткинская</span> 7 мин/п, Староконюшенный пер.</div>"
      ],
      "text/plain": [
       "BoxMarkup('text1. ann1. Арбатская м. 1-комн. кв-ру, или м.Кропоткинская 7 мин/п, Староконюшенный пер.',\n",
       "          [Span(13, 25, None), Span(45, 60, None)])"
      ]
     },
     "metadata": {},
     "output_type": "display_data"
    },
    {
     "data": {
      "text/html": [
       "<div class=\"tex2jax_ignore\" style=\"white-space: pre-wrap\">text2. ann2. <span style=\"padding: 2px; border-radius: 4px; border: 1px solid #bbdefb; background: #e3f2fd\">Арбатская м.</span> 1-комн. кв ру, 5 м/пеш., ул.Арбат дом 15/43;</div>"
      ],
      "text/plain": [
       "BoxMarkup('text2. ann2. Арбатская м. 1-комн. кв ру, 5 м/пеш., ул.Арбат дом 15/43;',\n",
       "          [Span(13, 25, None)])"
      ]
     },
     "metadata": {},
     "output_type": "display_data"
    },
    {
     "data": {
      "text/html": [
       "<div class=\"tex2jax_ignore\" style=\"white-space: pre-wrap\"><span style=\"padding: 2px; border-radius: 4px; border: 1px solid #bbdefb; background: #e3f2fd\">Бауманская м.</span></div>"
      ],
      "text/plain": [
       "BoxMarkup('Бауманская м.', [Span(0, 13, None)])"
      ]
     },
     "metadata": {},
     "output_type": "display_data"
    },
    {
     "data": {
      "text/html": [
       "<div class=\"tex2jax_ignore\" style=\"white-space: pre-wrap\"><span style=\"padding: 2px; border-radius: 4px; border: 1px solid #bbdefb; background: #e3f2fd\">БАУМАНСКАЯ М.</span></div>"
      ],
      "text/plain": [
       "BoxMarkup('БАУМАНСКАЯ М.', [Span(0, 13, None)])"
      ]
     },
     "metadata": {},
     "output_type": "display_data"
    }
   ],
   "source": [
    "# METRO = pipelines.pipeline(METRO_STATIONS).repeatable().interpretation(flat.metro)\n",
    "\n",
    "station = or_(pipelines.pipeline(METRO_STATIONS),\n",
    "              pipelines.pipeline(METRO_STATIONS_UPPER)\n",
    "             )\n",
    "\n",
    "METRO = rule(or_(rule('м',\n",
    "                      '.',\n",
    "                      station.repeatable().interpretation(flat_fact.metro)\n",
    "                     ),\n",
    "                 rule(station.repeatable().interpretation(flat_fact.metro),\n",
    "                      predicates.in_('мМ'),\n",
    "                      '.'\n",
    "                      )\n",
    "                )\n",
    ").repeatable()\n",
    "\n",
    "\n",
    "show_matches(\n",
    "    METRO,\n",
    "    'text1. ann1. Арбатская м. 1-комн. кв-ру, или м.Кропоткинская 7 мин/п, Староконюшенный пер.',\n",
    "    'text2. ann2. Арбатская м. 1-комн. кв ру, 5 м/пеш., ул.Арбат дом 15/43;',\n",
    "    'Бауманская м.',\n",
    "    'БАУМАНСКАЯ М.'\n",
    ")"
   ]
  },
  {
   "cell_type": "markdown",
   "metadata": {},
   "source": [
    "### Атрибут ROOMS (количество комнат)"
   ]
  },
  {
   "cell_type": "code",
   "execution_count": 9,
   "metadata": {},
   "outputs": [
    {
     "data": {
      "text/html": [
       "<div class=\"tex2jax_ignore\" style=\"white-space: pre-wrap\">text1. ann1. Арбатская м. <span style=\"padding: 2px; border-radius: 4px; border: 1px solid #bbdefb; background: #e3f2fd\">1-комн.</span> кв-ру, или м.Кропоткинская 7 мин/п, Староконюшенный пер.</div>"
      ],
      "text/plain": [
       "BoxMarkup('text1. ann1. Арбатская м. 1-комн. кв-ру, или м.Кропоткинская 7 мин/п, Староконюшенный пер.',\n",
       "          [Span(26, 33, None)])"
      ]
     },
     "metadata": {},
     "output_type": "display_data"
    },
    {
     "data": {
      "text/html": [
       "<div class=\"tex2jax_ignore\" style=\"white-space: pre-wrap\">text2. ann2. Арбатская м. <span style=\"padding: 2px; border-radius: 4px; border: 1px solid #bbdefb; background: #e3f2fd\">1-комн.</span> кв ру, 5 м/пеш., ул.Арбат дом 15/43;</div>"
      ],
      "text/plain": [
       "BoxMarkup('text2. ann2. Арбатская м. 1-комн. кв ру, 5 м/пеш., ул.Арбат дом 15/43;',\n",
       "          [Span(26, 33, None)])"
      ]
     },
     "metadata": {},
     "output_type": "display_data"
    }
   ],
   "source": [
    "rooms_pipe = pipelines.morph_pipeline([\n",
    "    '-комн.'\n",
    "])\n",
    "\n",
    "ROOMS = rule(INT.interpretation(flat_fact.rooms),\n",
    "             rooms_pipe\n",
    "            )\n",
    "\n",
    "\n",
    "show_matches(\n",
    "    ROOMS,\n",
    "    'text1. ann1. Арбатская м. 1-комн. кв-ру, или м.Кропоткинская 7 мин/п, Староконюшенный пер.',\n",
    "    'text2. ann2. Арбатская м. 1-комн. кв ру, 5 м/пеш., ул.Арбат дом 15/43;',\n",
    ")"
   ]
  },
  {
   "cell_type": "markdown",
   "metadata": {},
   "source": [
    "### Атрибут ADDRESS"
   ]
  },
  {
   "cell_type": "code",
   "execution_count": 10,
   "metadata": {},
   "outputs": [
    {
     "data": {
      "text/html": [
       "<div class=\"tex2jax_ignore\" style=\"white-space: pre-wrap\"><span style=\"padding: 2px; border-radius: 4px; border: 1px solid #bbdefb; background: #e3f2fd\">Староконюшенный пер., д.30</span>. 35/21 кв.м, кухня 10</div>"
      ],
      "text/plain": [
       "BoxMarkup('Староконюшенный пер., д.30. 35/21 кв.м, кухня 10',\n",
       "          [Span(0, 26, None)])"
      ]
     },
     "metadata": {},
     "output_type": "display_data"
    },
    {
     "data": {
      "text/html": [
       "<div class=\"tex2jax_ignore\" style=\"white-space: pre-wrap\">Арбатская м. 1-комн. кв ру, 5 м/пеш., <span style=\"padding: 2px; border-radius: 4px; border: 1px solid #bbdefb; background: #e3f2fd\">ул.Арбат дом 15/43</span>; 53/20/13 кв.м,</div>"
      ],
      "text/plain": [
       "BoxMarkup('Арбатская м. 1-комн. кв ру, 5 м/пеш., ул.Арбат дом 15/43; 53/20/13 кв.м,',\n",
       "          [Span(38, 56, None)])"
      ]
     },
     "metadata": {},
     "output_type": "display_data"
    },
    {
     "data": {
      "text/html": [
       "<div class=\"tex2jax_ignore\" style=\"white-space: pre-wrap\">1-комн. кв-ру, <span style=\"padding: 2px; border-radius: 4px; border: 1px solid #bbdefb; background: #e3f2fd\">ул.Б.Грузинская, д.14</span>, 36/20.2 кв.м</div>"
      ],
      "text/plain": [
       "BoxMarkup('1-комн. кв-ру, ул.Б.Грузинская, д.14, 36/20.2 кв.м',\n",
       "          [Span(15, 36, None)])"
      ]
     },
     "metadata": {},
     "output_type": "display_data"
    },
    {
     "data": {
      "text/html": [
       "<div class=\"tex2jax_ignore\" style=\"white-space: pre-wrap\"><span style=\"padding: 2px; border-radius: 4px; border: 1px solid #bbdefb; background: #e3f2fd\">Аптекарский пер., д.3/22</span>, 30/16.2 кв.м</div>"
      ],
      "text/plain": [
       "BoxMarkup('Аптекарский пер., д.3/22, 30/16.2 кв.м', [Span(0, 24, None)])"
      ]
     },
     "metadata": {},
     "output_type": "display_data"
    },
    {
     "data": {
      "text/html": [
       "<div class=\"tex2jax_ignore\" style=\"white-space: pre-wrap\">5 мин/п., <span style=\"padding: 2px; border-radius: 4px; border: 1px solid #bbdefb; background: #e3f2fd\">Токмаков пер.</span>, 28/16 кв.м</div>"
      ],
      "text/plain": [
       "BoxMarkup('5 мин/п., Токмаков пер., 28/16 кв.м', [Span(10, 23, None)])"
      ]
     },
     "metadata": {},
     "output_type": "display_data"
    },
    {
     "data": {
      "text/html": [
       "<div class=\"tex2jax_ignore\" style=\"white-space: pre-wrap\"><span style=\"padding: 2px; border-radius: 4px; border: 1px solid #bbdefb; background: #e3f2fd\">ул. Бутырский вал, д. 34</span>,</div>"
      ],
      "text/plain": [
       "BoxMarkup('ул. Бутырский вал, д. 34,', [Span(0, 24, None)])"
      ]
     },
     "metadata": {},
     "output_type": "display_data"
    },
    {
     "data": {
      "text/html": [
       "<div class=\"tex2jax_ignore\" style=\"white-space: pre-wrap\"><span style=\"padding: 2px; border-radius: 4px; border: 1px solid #bbdefb; background: #e3f2fd\">Б.Тишинский пер.</span>, 22/15 кв.м</div>"
      ],
      "text/plain": [
       "BoxMarkup('Б.Тишинский пер., 22/15 кв.м', [Span(0, 16, None)])"
      ]
     },
     "metadata": {},
     "output_type": "display_data"
    },
    {
     "data": {
      "text/html": [
       "<div class=\"tex2jax_ignore\" style=\"white-space: pre-wrap\"><span style=\"padding: 2px; border-radius: 4px; border: 1px solid #bbdefb; background: #e3f2fd\">Волочаевская ул. дом 2 корп 1</span>,</div>"
      ],
      "text/plain": [
       "BoxMarkup('Волочаевская ул. дом 2 корп 1,', [Span(0, 29, None)])"
      ]
     },
     "metadata": {},
     "output_type": "display_data"
    }
   ],
   "source": [
    "address_fact = fact('address', ['street', 'house'])\n",
    "street_type_pipe = pipelines.morph_pipeline([\n",
    "    'ул',\n",
    "    'пер',\n",
    "])\n",
    "house_pipe = pipelines.morph_pipeline([\n",
    "    'д',\n",
    "    'дом'\n",
    "])\n",
    "\n",
    "korpus_rule = rule(COMMA.optional(),\n",
    "                   predicates.eq('корп'),\n",
    "                   DOT.optional(),\n",
    "                   INT)\n",
    "\n",
    "house_num_rule = rule(COMMA.optional(),\n",
    "                      house_pipe,\n",
    "                      DOT.optional(),\n",
    "                      rule(INT,\n",
    "                           SLASH.optional(),\n",
    "                           INT.optional(),\n",
    "                           korpus_rule.optional()    # optional 'корпус'\n",
    "                          ).interpretation(address_fact.house)\n",
    "                     )\n",
    "\n",
    "street_name_union = or_(predicates.gram('ADJF'),\n",
    "                        predicates.gram('NOUN'),\n",
    "                        predicates.gram('Geox')\n",
    "                       )\n",
    "\n",
    "ADDRESS = rule(\n",
    "               or_(rule(\n",
    "                        street_type_pipe,                  # 'ул'\n",
    "                        DOT.optional(),                    # '.'\n",
    "                        predicates.in_('БМ').optional(),   # 'Б'/'М'\n",
    "                        DOT.optional(),                    # '.'\n",
    "                        street_name_union,                 # 'Грузинская'/'Арбат'/'Бутырский'\n",
    "                        predicates.gram('NOUN').optional() # 'вал'\n",
    "                       ),\n",
    "                   rule(\n",
    "                       predicates.in_('БМ').optional(),    # 'Б'/'М'\n",
    "                       DOT.optional(),                     # '.'\n",
    "                       street_name_union,                  # 'Грузинская'\n",
    "                       street_type_pipe,                   # 'ул'/'пер'\n",
    "                       DOT.optional(),                     # '.'\n",
    "                       )\n",
    "                  ) .interpretation(address_fact.street),\n",
    "               house_num_rule.optional()                   # номер дома с корпусом\n",
    "              ).interpretation(address_fact).interpretation(flat_fact.address)\n",
    "\n",
    "\n",
    "show_matches(\n",
    "    ADDRESS,\n",
    "    'Староконюшенный пер., д.30. 35/21 кв.м, кухня 10',\n",
    "    'Арбатская м. 1-комн. кв ру, 5 м/пеш., ул.Арбат дом 15/43; 53/20/13 кв.м,',\n",
    "    '1-комн. кв-ру, ул.Б.Грузинская, д.14, 36/20.2 кв.м',\n",
    "    'Аптекарский пер., д.3/22, 30/16.2 кв.м',\n",
    "    '5 мин/п., Токмаков пер., 28/16 кв.м',\n",
    "    'ул. Бутырский вал, д. 34,',\n",
    "    'Б.Тишинский пер., 22/15 кв.м',\n",
    "    'Волочаевская ул. дом 2 корп 1,'\n",
    ")"
   ]
  },
  {
   "cell_type": "markdown",
   "metadata": {},
   "source": [
    "### Атрибут FLOOR AREA"
   ]
  },
  {
   "cell_type": "code",
   "execution_count": 11,
   "metadata": {},
   "outputs": [
    {
     "data": {
      "text/html": [
       "<div class=\"tex2jax_ignore\" style=\"white-space: pre-wrap\">Староконюшенный пер., д.30. <span style=\"padding: 2px; border-radius: 4px; border: 1px solid #bbdefb; background: #e3f2fd\">35/21 кв.м, кухня 10</span>, 10/12 эт,</div>"
      ],
      "text/plain": [
       "BoxMarkup('Староконюшенный пер., д.30. 35/21 кв.м, кухня 10, 10/12 эт,',\n",
       "          [Span(28, 48, None)])"
      ]
     },
     "metadata": {},
     "output_type": "display_data"
    },
    {
     "data": {
      "text/html": [
       "<div class=\"tex2jax_ignore\" style=\"white-space: pre-wrap\">ул.Арбат дом 15/43; <span style=\"padding: 2px; border-radius: 4px; border: 1px solid #bbdefb; background: #e3f2fd\">53/20/13 кв.м</span>, еврорем., 4/6-эт. кирп.</div>"
      ],
      "text/plain": [
       "BoxMarkup('ул.Арбат дом 15/43; 53/20/13 кв.м, еврорем., 4/6-эт. кирп.',\n",
       "          [Span(20, 33, None)])"
      ]
     },
     "metadata": {},
     "output_type": "display_data"
    },
    {
     "data": {
      "text/html": [
       "<div class=\"tex2jax_ignore\" style=\"white-space: pre-wrap\">ул.М.Почтовая, 10; <span style=\"padding: 2px; border-radius: 4px; border: 1px solid #bbdefb; background: #e3f2fd\">44/21 кв.м, кухня 13.5</span>, 2/8-эт. </div>"
      ],
      "text/plain": [
       "BoxMarkup('ул.М.Почтовая, 10; 44/21 кв.м, кухня 13.5, 2/8-эт. ',\n",
       "          [Span(19, 41, None)])"
      ]
     },
     "metadata": {},
     "output_type": "display_data"
    },
    {
     "data": {
      "text/html": [
       "<div class=\"tex2jax_ignore\" style=\"white-space: pre-wrap\"><span style=\"padding: 2px; border-radius: 4px; border: 1px solid #bbdefb; background: #e3f2fd\">34/15 кв.м. кухня 7</span>,</div>"
      ],
      "text/plain": [
       "BoxMarkup('34/15 кв.м. кухня 7,', [Span(0, 19, None)])"
      ]
     },
     "metadata": {},
     "output_type": "display_data"
    },
    {
     "data": {
      "text/html": [
       "<div class=\"tex2jax_ignore\" style=\"white-space: pre-wrap\">, <span style=\"padding: 2px; border-radius: 4px; border: 1px solid #bbdefb; background: #e3f2fd\">34/14,4/кух. 8,5</span>,</div>"
      ],
      "text/plain": [
       "BoxMarkup(', 34/14,4/кух. 8,5,', [Span(2, 18, None)])"
      ]
     },
     "metadata": {},
     "output_type": "display_data"
    },
    {
     "data": {
      "text/html": [
       "<div class=\"tex2jax_ignore\" style=\"white-space: pre-wrap\">, <span style=\"padding: 2px; border-radius: 4px; border: 1px solid #bbdefb; background: #e3f2fd\">34.4/19.3/10</span>,</div>"
      ],
      "text/plain": [
       "BoxMarkup(', 34.4/19.3/10,', [Span(2, 14, None)])"
      ]
     },
     "metadata": {},
     "output_type": "display_data"
    }
   ],
   "source": [
    "floor_area_fact = fact('floor_area',\n",
    "                       ['area_1',\n",
    "                        'area_2',\n",
    "                        'area_3',\n",
    "                        'kitchen',\n",
    "                        'recessed_balcony'\n",
    "                       ])\n",
    "\n",
    "sq_m_pipe = pipelines.morph_pipeline([\n",
    "      'кв.м',\n",
    "      'кв. м',\n",
    "      ]\n",
    ")\n",
    "\n",
    "lodzhiya_rule = rule(COMMA,\n",
    "                     predicates.eq('лоджия'),\n",
    "                     INT_OR_FLOAT.interpretation(floor_area_fact.recessed_balcony))\n",
    "\n",
    "kitchen_rule = rule(or_(COMMA, DOT).optional(),\n",
    "                    predicates.in_(['кухня', 'кух']),\n",
    "                    DOT.optional(),\n",
    "                    INT_OR_FLOAT.interpretation(floor_area_fact.kitchen)\n",
    "                   )\n",
    "\n",
    "FLOOR_AREA = rule(\n",
    "    INT_OR_FLOAT.interpretation(floor_area_fact.area_1),\n",
    "    SLASH,\n",
    "    INT_OR_FLOAT.interpretation(floor_area_fact.area_2),\n",
    "    SLASH.optional(),\n",
    "    INT_OR_FLOAT.interpretation(floor_area_fact.area_3).optional(),\n",
    "    or_(sq_m_pipe, kitchen_rule, INT_OR_FLOAT.interpretation(floor_area_fact.area_3)),\n",
    "    kitchen_rule.optional(),\n",
    "    lodzhiya_rule.optional()\n",
    ").interpretation(floor_area_fact).interpretation(flat_fact.floor_area)\n",
    "\n",
    "\n",
    "show_matches(\n",
    "    FLOOR_AREA,\n",
    "    'Староконюшенный пер., д.30. 35/21 кв.м, кухня 10, 10/12 эт,',\n",
    "    'ул.Арбат дом 15/43; 53/20/13 кв.м, еврорем., 4/6-эт. кирп.',\n",
    "    'ул.М.Почтовая, 10; 44/21 кв.м, кухня 13.5, 2/8-эт. ',\n",
    "    '34/15 кв.м. кухня 7,',\n",
    "    ', 34/14,4/кух. 8,5,',\n",
    "    ', 34.4/19.3/10,'\n",
    ")"
   ]
  },
  {
   "cell_type": "markdown",
   "metadata": {},
   "source": [
    "### Атрибут FLOOR NUMBER"
   ]
  },
  {
   "cell_type": "code",
   "execution_count": 12,
   "metadata": {},
   "outputs": [
    {
     "data": {
      "text/html": [
       "<div class=\"tex2jax_ignore\" style=\"white-space: pre-wrap\">Староконюшенный пер., д.30. 35/21 кв.м, кухня 10, <span style=\"padding: 2px; border-radius: 4px; border: 1px solid #bbdefb; background: #e3f2fd\">10/12 эт</span>, блоч. дома,</div>"
      ],
      "text/plain": [
       "BoxMarkup('Староконюшенный пер., д.30. 35/21 кв.м, кухня 10, 10/12 эт, блоч. дома,',\n",
       "          [Span(50, 58, None)])"
      ]
     },
     "metadata": {},
     "output_type": "display_data"
    },
    {
     "data": {
      "text/html": [
       "<div class=\"tex2jax_ignore\" style=\"white-space: pre-wrap\">ул.Арбат дом 15/43; 53/20/13 кв.м, еврорем., <span style=\"padding: 2px; border-radius: 4px; border: 1px solid #bbdefb; background: #e3f2fd\">4/6-эт</span>. кирп. дома,</div>"
      ],
      "text/plain": [
       "BoxMarkup('ул.Арбат дом 15/43; 53/20/13 кв.м, еврорем., 4/6-эт. кирп. дома,',\n",
       "          [Span(45, 51, None)])"
      ]
     },
     "metadata": {},
     "output_type": "display_data"
    }
   ],
   "source": [
    "# Номер этажа и всего этажей в доме\n",
    "floor_fact = fact('floor', ['floor_num', 'floor_ttl'])\n",
    "\n",
    "floor_num_pipe = pipelines.morph_pipeline([\n",
    "    'эт',\n",
    "    '-эт',\n",
    "    'эт.',\n",
    "    'этаж',\n",
    "    'пан',\n",
    "    'кирп',\n",
    "    '-пан'\n",
    "      ]\n",
    ")\n",
    "\n",
    "FLOOR = rule(rule(\n",
    "             INT.interpretation(floor_fact.floor_num),\n",
    "             SLASH,\n",
    "             INT.interpretation(floor_fact.floor_ttl),\n",
    "             floor_num_pipe,\n",
    "            ).interpretation(floor_fact).interpretation(flat_fact.floor))\n",
    "\n",
    "\n",
    "show_matches(\n",
    "    FLOOR,\n",
    "    'Староконюшенный пер., д.30. 35/21 кв.м, кухня 10, 10/12 эт, блоч. дома,',\n",
    "    'ул.Арбат дом 15/43; 53/20/13 кв.м, еврорем., 4/6-эт. кирп. дома,',\n",
    ")"
   ]
  },
  {
   "cell_type": "markdown",
   "metadata": {},
   "source": [
    "### Атрибут PRICE"
   ]
  },
  {
   "cell_type": "code",
   "execution_count": 13,
   "metadata": {},
   "outputs": [
    {
     "data": {
      "text/html": [
       "<div class=\"tex2jax_ignore\" style=\"white-space: pre-wrap\">продаю, <span style=\"padding: 2px; border-radius: 4px; border: 1px solid #bbdefb; background: #e3f2fd\">45 тыс.$</span>. Торг Т 557-00-73</div>"
      ],
      "text/plain": [
       "BoxMarkup('продаю, 45 тыс.$. Торг Т 557-00-73', [Span(8, 16, None)])"
      ]
     },
     "metadata": {},
     "output_type": "display_data"
    },
    {
     "data": {
      "text/html": [
       "<div class=\"tex2jax_ignore\" style=\"white-space: pre-wrap\">хозяин, <span style=\"padding: 2px; border-radius: 4px; border: 1px solid #bbdefb; background: #e3f2fd\">130 тыс.$</span>. Торг. Т.762-55-67, С</div>"
      ],
      "text/plain": [
       "BoxMarkup('хозяин, 130 тыс.$. Торг. Т.762-55-67, С', [Span(8, 17, None)])"
      ]
     },
     "metadata": {},
     "output_type": "display_data"
    },
    {
     "data": {
      "text/html": [
       "<div class=\"tex2jax_ignore\" style=\"white-space: pre-wrap\"><span style=\"padding: 2px; border-radius: 4px; border: 1px solid #bbdefb; background: #e3f2fd\">24.000$</span></div>"
      ],
      "text/plain": [
       "BoxMarkup('24.000$', [Span(0, 7, None)])"
      ]
     },
     "metadata": {},
     "output_type": "display_data"
    },
    {
     "data": {
      "text/html": [
       "<div class=\"tex2jax_ignore\" style=\"white-space: pre-wrap\"><span style=\"padding: 2px; border-radius: 4px; border: 1px solid #bbdefb; background: #e3f2fd\">27 500 дол.</span></div>"
      ],
      "text/plain": [
       "BoxMarkup('27 500 дол.', [Span(0, 11, None)])"
      ]
     },
     "metadata": {},
     "output_type": "display_data"
    }
   ],
   "source": [
    "def normalize_amount(val):\n",
    "    val = ''.join(val.split())\n",
    "    if 'тыс' in val:\n",
    "        val = re.sub('тыс.?', '', val)\n",
    "        val = val.replace(',', '.')\n",
    "        val = float(val) * 1000\n",
    "    else:\n",
    "        val = val.replace('.', '')\n",
    "    return int(val)\n",
    "\n",
    "assert normalize_amount('45 тыс.') == 45000\n",
    "assert normalize_amount('24.000') == 24000\n",
    "assert normalize_amount('27 500') == 27500\n",
    "assert normalize_amount('23.5 тыс') == 23500\n",
    "\n",
    "\n",
    "price_fact = fact('price', \n",
    "                  ['amount',\n",
    "                   'currency'\n",
    "                  ]\n",
    "                 )\n",
    "\n",
    "currencies_dict = {\n",
    "    'дол.': 'USD',\n",
    "    '$': 'USD',\n",
    "    'у.е.': 'у.е.'\n",
    "}\n",
    "\n",
    "currency_pipe = pipelines.pipeline(currencies_dict).interpretation(\n",
    "    price_fact.currency.custom(currencies_dict.get))\n",
    "\n",
    "amount_rule = rule(INT_OR_FLOAT,\n",
    "                   DOT.optional(),\n",
    "                   INT.optional(),\n",
    "                   predicates.eq('тыс').optional(),\n",
    "                   DOT.optional()\n",
    "                  )\n",
    "\n",
    "PRICE = rule(\n",
    "             amount_rule.interpretation(price_fact.amount.custom(normalize_amount)),\n",
    "#              currency_pipe.interpretation(price_fact.currency)\n",
    "    currency_pipe\n",
    "            ).interpretation(price_fact).interpretation(flat_fact.price)\n",
    "\n",
    "\n",
    "show_matches(\n",
    "    PRICE,\n",
    "    'продаю, 45 тыс.$. Торг Т 557-00-73',\n",
    "    'хозяин, 130 тыс.$. Торг. Т.762-55-67, С',\n",
    "    '24.000$',\n",
    "    '27 500 дол.'\n",
    ")"
   ]
  },
  {
   "cell_type": "markdown",
   "metadata": {},
   "source": [
    "### Атрибут TELEPHONE"
   ]
  },
  {
   "cell_type": "code",
   "execution_count": 14,
   "metadata": {},
   "outputs": [
    {
     "data": {
      "text/html": [
       "<div class=\"tex2jax_ignore\" style=\"white-space: pre-wrap\">продаю, 45 тыс.$. Торг <span style=\"padding: 2px; border-radius: 4px; border: 1px solid #bbdefb; background: #e3f2fd\">Т 557-00-73</span></div>"
      ],
      "text/plain": [
       "BoxMarkup('продаю, 45 тыс.$. Торг Т 557-00-73', [Span(23, 34, None)])"
      ]
     },
     "metadata": {},
     "output_type": "display_data"
    },
    {
     "data": {
      "text/html": [
       "<div class=\"tex2jax_ignore\" style=\"white-space: pre-wrap\">хозяин, 130 тыс.$. Торг. <span style=\"padding: 2px; border-radius: 4px; border: 1px solid #bbdefb; background: #e3f2fd\">Т.762-55-67</span>, С</div>"
      ],
      "text/plain": [
       "BoxMarkup('хозяин, 130 тыс.$. Торг. Т.762-55-67, С', [Span(25, 36, None)])"
      ]
     },
     "metadata": {},
     "output_type": "display_data"
    },
    {
     "data": {
      "text/html": [
       "<div class=\"tex2jax_ignore\" style=\"white-space: pre-wrap\">27 тыс.$. <span style=\"padding: 2px; border-radius: 4px; border: 1px solid #bbdefb; background: #e3f2fd\">Т.737-76-67</span>, раб., <span style=\"padding: 2px; border-radius: 4px; border: 1px solid #bbdefb; background: #e3f2fd\">Т.265-23-31</span>, дом.</div>"
      ],
      "text/plain": [
       "BoxMarkup('27 тыс.$. Т.737-76-67, раб., Т.265-23-31, дом.',\n",
       "          [Span(10, 21, None), Span(29, 40, None)])"
      ]
     },
     "metadata": {},
     "output_type": "display_data"
    }
   ],
   "source": [
    "tele_pipe = pipelines.morph_pipeline([\n",
    "    'Т',\n",
    "])\n",
    "TELE = rule(tele_pipe,\n",
    "            DOT.optional(),\n",
    "            rule(INT,\n",
    "            DASH,\n",
    "            INT,\n",
    "            DASH,\n",
    "            INT).repeatable().interpretation(flat_fact.telephone)\n",
    "           ).repeatable()\n",
    "\n",
    "\n",
    "show_matches(\n",
    "    TELE,\n",
    "    'продаю, 45 тыс.$. Торг Т 557-00-73',\n",
    "    'хозяин, 130 тыс.$. Торг. Т.762-55-67, С',\n",
    "    '27 тыс.$. Т.737-76-67, раб., Т.265-23-31, дом.'\n",
    ")"
   ]
  },
  {
   "cell_type": "markdown",
   "metadata": {},
   "source": [
    "### Объект AD -- одно объявление о продаже (союз всех атибутов); объект WRAPPER -- обертка поверх союза атрибутов"
   ]
  },
  {
   "cell_type": "code",
   "execution_count": 15,
   "metadata": {},
   "outputs": [],
   "source": [
    "AD = or_(METRO.repeatable(),\n",
    "         ROOMS,\n",
    "         ADDRESS,\n",
    "         FLOOR_AREA,\n",
    "         FLOOR,\n",
    "         PRICE,\n",
    "         TELE\n",
    "        ).interpretation(flat_fact)\n",
    "\n",
    "WRAPPER = rule(\n",
    "    METRO.repeatable(),\n",
    "    ROOMS.optional(),\n",
    "    METRO.optional().repeatable(),\n",
    "    ADDRESS.optional(),\n",
    "    FLOOR_AREA.optional(),\n",
    "    FLOOR.optional(),\n",
    "    PRICE.optional(),\n",
    "    TELE.optional().repeatable()\n",
    ").interpretation(flat_fact)"
   ]
  },
  {
   "cell_type": "markdown",
   "metadata": {},
   "source": [
    "## Тесты"
   ]
  },
  {
   "cell_type": "code",
   "execution_count": 16,
   "metadata": {
    "scrolled": true
   },
   "outputs": [
    {
     "name": "stdout",
     "output_type": "stream",
     "text": [
      "flat(metro=['Белорусская'], rooms='1', address=address(street='Б.Тишинский пер.', house=None), floor_area=floor_area(area_1='22', area_2='15', area_3=None, kitchen=None, recessed_balcony=None), floor=floor(floor_num='2', floor_ttl='6'), price=price(amount=18000, currency='USD'), telephone=['253-30-92'])\n"
     ]
    }
   ],
   "source": [
    "# tests\n",
    "text = TEXTS[0]\n",
    "extractor = Extractor(AD, WRAPPER)\n",
    "match = extractor(text)\n",
    "assert match.fact.as_json['metro'] == ['Арбатская', 'Кропоткинская']\n",
    "assert match.fact.as_json['rooms'] == '1'\n",
    "assert match.fact.as_json['address']['street'] == 'Староконюшенный пер.'\n",
    "assert match.fact.as_json['address']['house'] == '30'\n",
    "assert match.fact.as_json['floor_area']['area_1'] == '35'\n",
    "assert match.fact.as_json['floor_area']['area_2'] == '21'\n",
    "assert match.fact.as_json['floor']['floor_num'] == '10'\n",
    "assert match.fact.as_json['floor']['floor_ttl'] == '12'\n",
    "assert match.fact.as_json['price']['amount'] == 45000\n",
    "assert match.fact.as_json['price']['currency'] == 'USD'\n",
    "assert match.fact.as_json['telephone'] == ['557-00-73']\n",
    "\n",
    "text = TEXTS[1]\n",
    "extractor = Extractor(AD, WRAPPER)\n",
    "match = extractor(text)\n",
    "assert match.fact.as_json['metro'] == ['Арбатская']\n",
    "assert match.fact.as_json['rooms'] == '1'\n",
    "assert match.fact.as_json['address']['street'] == 'ул.Арбат'\n",
    "assert match.fact.as_json['address']['house'] == '15/43'\n",
    "assert match.fact.as_json['floor_area']['area_1'] == '53'\n",
    "assert match.fact.as_json['floor_area']['area_2'] == '20'\n",
    "assert match.fact.as_json['floor_area']['area_3'] == '13'\n",
    "assert match.fact.as_json['floor']['floor_num'] == '4'\n",
    "assert match.fact.as_json['floor']['floor_ttl'] == '6'\n",
    "assert match.fact.as_json['price']['amount'] == 130000\n",
    "assert match.fact.as_json['price']['currency'] == 'USD'\n",
    "assert match.fact.as_json['telephone'] == ['762-55-67']\n",
    "\n",
    "text = TEXTS[2]\n",
    "extractor = Extractor(AD, WRAPPER)\n",
    "match = extractor(text)\n",
    "assert match.fact.as_json['metro'] == [\"Баррикадная\"]\n",
    "assert match.fact.as_json['rooms'] == \"1\"\n",
    "assert match.fact.as_json['address']['street'] == \"ул.Б.Грузинская\"\n",
    "assert match.fact.as_json['address']['house'] == \"14\"\n",
    "assert match.fact.as_json['floor_area']['area_1'] == \"36\"\n",
    "assert match.fact.as_json['floor_area']['area_2'] == \"20.2\"\n",
    "assert match.fact.as_json['floor_area'][\"kitchen\"] == \"8.3\"\n",
    "assert match.fact.as_json['floor']['floor_num'] == \"2\"\n",
    "assert match.fact.as_json['floor']['floor_ttl'] == \"14\"\n",
    "assert match.fact.as_json['telephone'] == [\"962-30-63\"]\n",
    "\n",
    "text = TEXTS[9]\n",
    "extractor = Extractor(AD, WRAPPER)\n",
    "match = extractor(text)\n",
    "assert match.fact.as_json['metro'] == [\"Бауманская\"]\n",
    "assert match.fact.as_json['rooms'] == \"1\"\n",
    "assert match.fact.as_json['address']['street'] == \"Токмаков пер.\"\n",
    "assert match.fact.as_json['floor_area']['area_1'] == \"28\"\n",
    "assert match.fact.as_json['floor_area']['area_2'] == \"16\"\n",
    "assert match.fact.as_json['floor_area'][\"kitchen\"] == \"5.5\"\n",
    "assert match.fact.as_json['floor']['floor_num'] == \"6\"\n",
    "assert match.fact.as_json['floor']['floor_ttl'] == \"7\"\n",
    "assert match.fact.as_json['price']['amount'] == 17000\n",
    "assert match.fact.as_json['price']['currency'] == 'USD'\n",
    "assert match.fact.as_json['telephone'] == [\"978-92-94\"]\n",
    "\n",
    "text = TEXTS[10]\n",
    "extractor = Extractor(AD, WRAPPER)\n",
    "match = extractor(text)\n",
    "assert match.fact.as_json['metro'] == [\"Бауманская\"]\n",
    "assert match.fact.as_json['rooms'] == \"1\"\n",
    "assert match.fact.as_json['address']['street'] == \"ул. Б. Почтовая\"\n",
    "assert match.fact.as_json['address']['house'] == \"18/20, корп. 16\"\n",
    "assert match.fact.as_json['floor_area']['area_1'] == \"34\"\n",
    "assert match.fact.as_json['floor_area']['area_2'] == \"15\"\n",
    "assert match.fact.as_json['floor']['floor_num'] == \"5\"\n",
    "assert match.fact.as_json['floor']['floor_ttl'] == \"5\"\n",
    "assert match.fact.as_json['price']['amount'] == 23500\n",
    "assert match.fact.as_json['price']['currency'] == 'USD'\n",
    "assert match.fact.as_json['telephone'] == [\"218-59-90\"]\n",
    "\n",
    "text = TEXTS[11]\n",
    "extractor = Extractor(AD, WRAPPER)\n",
    "match = extractor(text)\n",
    "assert match.fact.as_json['metro'] == ['Бауманская']\n",
    "assert match.fact.as_json['rooms'] == '1'\n",
    "assert match.fact.as_json['address']['street'] == 'Плетешковский пер.'\n",
    "assert match.fact.as_json['floor_area']['area_1'] == '35'\n",
    "assert match.fact.as_json['floor_area']['area_2'] == '20'\n",
    "assert match.fact.as_json['floor_area'][\"kitchen\"] == '10'\n",
    "assert match.fact.as_json['floor']['floor_num'] == '3'\n",
    "assert match.fact.as_json['floor']['floor_ttl'] == '12'\n",
    "assert match.fact.as_json['price']['amount'] == 28000\n",
    "assert match.fact.as_json['price']['currency'] == 'у.е.'\n",
    "assert match.fact.as_json['telephone'] == ['322-70-36']\n",
    "\n",
    "text = TEXTS[15]\n",
    "extractor = Extractor(AD, WRAPPER)\n",
    "match = extractor(text)\n",
    "assert match.fact.as_json['metro'] == ['БАУМАНСКАЯ']\n",
    "assert match.fact.as_json['rooms'] == '1'\n",
    "assert match.fact.as_json['address']['street'] == 'Волочаевская ул.'\n",
    "assert match.fact.as_json['address']['house'] == '2 корп 1'\n",
    "assert match.fact.as_json['floor_area']['area_1'] == '34'\n",
    "assert match.fact.as_json['floor_area']['area_2'] == '14,4'\n",
    "assert match.fact.as_json['floor_area'][\"kitchen\"] == '8,5'\n",
    "assert match.fact.as_json['floor']['floor_num'] == '12'\n",
    "assert match.fact.as_json['floor']['floor_ttl'] == '12'\n",
    "assert match.fact.as_json['price']['amount'] == 27500\n",
    "assert match.fact.as_json['price']['currency'] == 'USD'\n",
    "assert match.fact.as_json['telephone'] == ['924-59-92', '925-10-83']\n",
    "\n",
    "text = TEXTS[16]\n",
    "extractor = Extractor(AD, WRAPPER)\n",
    "match = extractor(text)\n",
    "assert match.fact.as_json['metro'] == [\"Белорусская\"]\n",
    "assert match.fact.as_json['rooms'] == \"1\"\n",
    "assert match.fact.as_json['address']['street'] == \"ул.Нижняя\"\n",
    "assert match.fact.as_json['address']['house'] == \"5\"\n",
    "assert match.fact.as_json['floor_area']['area_1'] == \"31,3\"\n",
    "assert match.fact.as_json['floor_area']['area_2'] == \"13,4\"\n",
    "assert match.fact.as_json['floor_area'][\"kitchen\"] == \"9,2\"\n",
    "assert match.fact.as_json['floor']['floor_num'] == \"3\"\n",
    "assert match.fact.as_json['floor']['floor_ttl'] == \"5\"\n",
    "assert match.fact.as_json['price']['amount'] == 25000\n",
    "assert match.fact.as_json['price']['currency'] == \"USD\"\n",
    "assert match.fact.as_json['telephone'] == [\"318-94-49\"]\n",
    "\n",
    "text = TEXTS[17]\n",
    "extractor = Extractor(AD, WRAPPER)\n",
    "match = extractor(text)\n",
    "assert match.fact.as_json['metro'] == [\"Белорусская\"]\n",
    "assert match.fact.as_json['rooms'] == \"1\"\n",
    "assert match.fact.as_json['address']['street'] == \"ул.Верхняя\"\n",
    "assert match.fact.as_json['address']['house'] == \"6\"\n",
    "assert match.fact.as_json['floor_area']['area_1'] == \"43\"\n",
    "assert match.fact.as_json['floor_area']['area_2'] == \"20\"\n",
    "assert match.fact.as_json['floor_area'][\"kitchen\"] == \"13\"\n",
    "assert match.fact.as_json['floor']['floor_num'] == \"2\"\n",
    "assert match.fact.as_json['floor']['floor_ttl'] == \"14\"\n",
    "assert match.fact.as_json['price']['amount'] == 41500\n",
    "assert match.fact.as_json['price']['currency'] == \"USD\"\n",
    "assert match.fact.as_json['telephone'] == [\"405-85-64\"]\n",
    "\n",
    "text = TEXTS[18]\n",
    "extractor = Extractor(AD, WRAPPER)\n",
    "match = extractor(text)\n",
    "assert match.fact.as_json['metro'] == [\"Белорусская\"]\n",
    "assert match.fact.as_json['rooms'] == \"1\"\n",
    "assert match.fact.as_json['address']['street'] == \"ул. Бутырский вал\"\n",
    "assert match.fact.as_json['address']['house'] == \"34\"\n",
    "assert match.fact.as_json['floor_area']['area_1'] == \"36\"\n",
    "assert match.fact.as_json['floor_area']['area_2'] == \"20\"\n",
    "assert match.fact.as_json['floor']['floor_num'] == \"12\"\n",
    "assert match.fact.as_json['floor']['floor_ttl'] == \"12\"\n",
    "assert match.fact.as_json['price']['amount'] == 28000\n",
    "assert match.fact.as_json['price']['currency'] == \"USD\"\n",
    "assert match.fact.as_json['telephone'] == [\"299-96-51\"]\n",
    "\n",
    "text = TEXTS[19]\n",
    "extractor = Extractor(AD, WRAPPER)\n",
    "match = extractor(text)\n",
    "assert match.fact.as_json['metro'] == [\"Белорусская\"]\n",
    "assert match.fact.as_json['rooms'] == \"1\"\n",
    "assert match.fact.as_json['address']['street'] == \"Б.Тишинский пер.\"\n",
    "assert match.fact.as_json['floor_area']['area_1'] == \"22\"\n",
    "assert match.fact.as_json['floor_area']['area_2'] == \"15\"\n",
    "assert match.fact.as_json['floor']['floor_num'] == \"2\"\n",
    "assert match.fact.as_json['floor']['floor_ttl'] == \"6\"\n",
    "assert match.fact.as_json['price']['amount'] == 18000\n",
    "assert match.fact.as_json['price']['currency'] == \"USD\"\n",
    "assert match.fact.as_json['telephone'] == [\"253-30-92\"]\n",
    "print(match.fact)"
   ]
  },
  {
   "cell_type": "code",
   "execution_count": 17,
   "metadata": {
    "scrolled": true
   },
   "outputs": [
    {
     "data": {
      "text/html": [
       "<div class=\"tex2jax_ignore\" style=\"white-space: pre-wrap\">text15. ann15. •<span style=\"padding: 2px; border-radius: 4px; border: 1px solid #bbdefb; background: #e3f2fd\">БАУМАНСКАЯ м.</span> <span style=\"padding: 2px; border-radius: 4px; border: 1px solid #bbdefb; background: #e3f2fd\">1-комн.</span> кв-ру, 3 м.п., <span style=\"padding: 2px; border-radius: 4px; border: 1px solid #bbdefb; background: #e3f2fd\">Волховский пер., д.2</span>, 9-126., <span style=\"padding: 2px; border-radius: 4px; border: 1px solid #bbdefb; background: #e3f2fd\">34.4/19.3/10</span>, без балк., без тел., парк. доска, окна-двор, чистый подъезд, код.зам., приват., альт-ва. <span style=\"padding: 2px; border-radius: 4px; border: 1px solid #bbdefb; background: #e3f2fd\">24.000$</span>. Лиц-N 000676/РП(006). <span style=\"padding: 2px; border-radius: 4px; border: 1px solid #bbdefb; background: #e3f2fd\">Т.203-12-31</span>, <span style=\"padding: 2px; border-radius: 4px; border: 1px solid #bbdefb; background: #e3f2fd\">Т.737-00-93</span> с 9 до 20</div>"
      ],
      "text/plain": [
       "BoxMarkup('text15. ann15. •БАУМАНСКАЯ м. 1-комн. кв-ру, 3 м.п., Волховский пер., д.2, 9-126., 34.4/19.3/10, без балк., без тел., парк. доска, окна-двор, чистый подъезд, код.зам., приват., альт-ва. 24.000$. Лиц-N 000676/РП(006). Т.203-12-31, Т.737-00-93 с 9 до 20',\n",
       "          [Span(16, 29, None),\n",
       "           Span(30, 37, None),\n",
       "           Span(53, 73, None),\n",
       "           Span(83, 95, None),\n",
       "           Span(186, 193, None),\n",
       "           Span(217, 228, None),\n",
       "           Span(230, 241, None)])"
      ]
     },
     "metadata": {},
     "output_type": "display_data"
    },
    {
     "name": "stdout",
     "output_type": "stream",
     "text": [
      "{'metro': ['БАУМАНСКАЯ'], 'rooms': '1', 'address': {'street': 'Волховский пер.', 'house': '2'}, 'floor_area': {'area_1': '34.4', 'area_2': '19.3', 'area_3': '10'}, 'price': {'amount': 24000, 'currency': 'USD'}, 'telephone': ['203-12-31', '737-00-93']}\n",
      "{\n",
      "  \"metro\": [\n",
      "    \"БАУМАНСКАЯ\"\n",
      "  ],\n",
      "  \"rooms\": \"1\",\n",
      "  \"address\": {\n",
      "    \"street\": \"Волховский пер.\",\n",
      "    \"house\": \"2\"\n",
      "  },\n",
      "  \"floor_area\": {\n",
      "    \"area_1\": \"34.4\",\n",
      "    \"area_2\": \"19.3\",\n",
      "    \"area_3\": \"10\"\n",
      "  },\n",
      "  \"price\": {\n",
      "    \"amount\": 24000,\n",
      "    \"currency\": \"USD\"\n",
      "  },\n",
      "  \"telephone\": [\n",
      "    \"203-12-31\",\n",
      "    \"737-00-93\"\n",
      "  ]\n",
      "}\n"
     ]
    }
   ],
   "source": [
    "text = TEXTS[14]\n",
    "extractor = Extractor(AD, WRAPPER)\n",
    "match = extractor(text)\n",
    "show_markup(text, match.spans)\n",
    "if match.fact:\n",
    "    print(json.loads(json.dumps(match.fact.as_json, ensure_ascii=False)))\n",
    "    show_json(match.fact.as_json)"
   ]
  },
  {
   "cell_type": "markdown",
   "metadata": {},
   "source": [
    "## Сохранить результаты разбора в json-файл"
   ]
  },
  {
   "cell_type": "code",
   "execution_count": 18,
   "metadata": {
    "scrolled": true
   },
   "outputs": [],
   "source": [
    "# Put all parsed ads into a dict with a single key at the top\n",
    "json_data = {'flat_sale_ads': []}\n",
    "extractor = Extractor(AD, WRAPPER)\n",
    "for text in TEXTS:\n",
    "    match = extractor(text)\n",
    "    if match.fact:\n",
    "        json_data['flat_sale_ads'].append(json.loads(json.dumps(match.fact.as_json, ensure_ascii=False)))\n",
    "\n",
    "# Check that all ads are included into the dict\n",
    "assert len(json_data['flat_sale_ads']) == 20"
   ]
  },
  {
   "cell_type": "code",
   "execution_count": 19,
   "metadata": {},
   "outputs": [],
   "source": [
    "# Write to a json file\n",
    "with open(os.path.join('data', 'flats_data.json'), 'w', encoding='utf-8') as f:\n",
    "    json.dump(json_data,\n",
    "              f,\n",
    "              ensure_ascii=False,\n",
    "              indent=4,\n",
    "              sort_keys=True\n",
    "             )"
   ]
  },
  {
   "cell_type": "code",
   "execution_count": null,
   "metadata": {},
   "outputs": [],
   "source": []
  }
 ],
 "metadata": {
  "kernelspec": {
   "display_name": "yargy",
   "language": "python",
   "name": "yargy"
  },
  "language_info": {
   "codemirror_mode": {
    "name": "ipython",
    "version": 3
   },
   "file_extension": ".py",
   "mimetype": "text/x-python",
   "name": "python",
   "nbconvert_exporter": "python",
   "pygments_lexer": "ipython3",
   "version": "3.6.10"
  }
 },
 "nbformat": 4,
 "nbformat_minor": 4
}
